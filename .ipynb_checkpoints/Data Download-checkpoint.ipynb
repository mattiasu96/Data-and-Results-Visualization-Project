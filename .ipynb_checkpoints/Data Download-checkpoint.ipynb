{
 "cells": [
  {
   "cell_type": "markdown",
   "metadata": {},
   "source": [
    "# Data download "
   ]
  },
  {
   "cell_type": "code",
   "execution_count": null,
   "metadata": {},
   "outputs": [],
   "source": [
    "import datetime\n",
    "\n",
    "weeks = []\n",
    "\n",
    "date_format = \"%Y-%m-%d\"\n",
    "d1 = datetime.datetime.strptime(\"2016-12-29\", date_format).date()\n",
    "d2 = datetime.datetime.strptime(\"2020-08-06\", date_format).date()\n",
    "d = d1\n",
    "step = datetime.timedelta(days=7)\n",
    "\n",
    " \n",
    "\n",
    "while d < d2:\n",
    "    #print(d.strftime(date_format))\n",
    "    weeks.append(d)\n",
    "    d += step\n",
    "    \n"
   ]
  },
  {
   "cell_type": "code",
   "execution_count": null,
   "metadata": {},
   "outputs": [],
   "source": [
    "week_tail = []\n",
    "week_head = []\n",
    "for date in weeks:\n",
    "    date+=datetime.timedelta(days=1)\n",
    "    end_date = date\n",
    "    #end_date= end_date.strftime(date_format)    \n",
    "    week_tail.append(end_date)\n",
    "    \n",
    "    start_date = end_date - datetime.timedelta(days=7)\n",
    "    #end_date= end_date.strftime(date_format)    \n",
    "    week_head.append(start_date)\n",
    "    \n",
    "#print('tails')\n",
    "#print(week_tail)\n",
    "\n",
    "#print('heads')\n",
    "#print(week_head)"
   ]
  },
  {
   "cell_type": "code",
   "execution_count": null,
   "metadata": {},
   "outputs": [],
   "source": [
    "weeks = []\n",
    "for n in range(len(week_tail)):\n",
    "    week = str(week_head[n]) + '--' + str(week_tail[n])\n",
    "    weeks.append(week)\n",
    "    print(week)\n",
    "\n",
    "print(weeks)"
   ]
  },
  {
   "cell_type": "code",
   "execution_count": null,
   "metadata": {},
   "outputs": [],
   "source": [
    "import requests\n",
    "for week in weeks:\n",
    "    csv_url = 'https://spotifycharts.com/regional/global/weekly/'+week+'/download'\n",
    "    req = requests.get(csv_url)\n",
    "    url_content = req.content\n",
    "    csv_file = open('global_weekly_'+week+'.csv', 'wb')\n",
    "\n",
    "    csv_file.write(url_content)\n",
    "    csv_file.close()"
   ]
  }
 ],
 "metadata": {
  "kernelspec": {
   "display_name": "Python 3",
   "language": "python",
   "name": "python3"
  },
  "language_info": {
   "codemirror_mode": {
    "name": "ipython",
    "version": 3
   },
   "file_extension": ".py",
   "mimetype": "text/x-python",
   "name": "python",
   "nbconvert_exporter": "python",
   "pygments_lexer": "ipython3",
   "version": "3.7.6"
  }
 },
 "nbformat": 4,
 "nbformat_minor": 4
}
