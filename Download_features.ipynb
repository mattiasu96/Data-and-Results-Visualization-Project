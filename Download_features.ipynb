{
 "cells": [
  {
   "cell_type": "code",
   "execution_count": null,
   "metadata": {},
   "outputs": [],
   "source": [
    "import pandas as pd\n",
    "import spotipy\n",
    "#from fycharts.SpotifyCharts import SpotifyCharts\n",
    "from spotipy.oauth2 import SpotifyClientCredentials"
   ]
  },
  {
   "cell_type": "code",
   "execution_count": null,
   "metadata": {},
   "outputs": [],
   "source": [
    "df = pd.read_csv('global_2017-07-14--2017-07-21.csv')"
   ]
  },
  {
   "cell_type": "code",
   "execution_count": null,
   "metadata": {},
   "outputs": [],
   "source": [
    "df"
   ]
  },
  {
   "cell_type": "code",
   "execution_count": null,
   "metadata": {},
   "outputs": [],
   "source": [
    "df.columns = df.iloc[0]"
   ]
  },
  {
   "cell_type": "code",
   "execution_count": null,
   "metadata": {},
   "outputs": [],
   "source": [
    "df = df.iloc[1:].reset_index()"
   ]
  },
  {
   "cell_type": "code",
   "execution_count": null,
   "metadata": {},
   "outputs": [],
   "source": [
    "df.URL.astype('str')"
   ]
  },
  {
   "cell_type": "code",
   "execution_count": null,
   "metadata": {},
   "outputs": [],
   "source": [
    "df.URL = df.URL.apply(lambda x : x[31:])"
   ]
  },
  {
   "cell_type": "code",
   "execution_count": null,
   "metadata": {},
   "outputs": [],
   "source": [
    "df.rename(columns={'URL':'ID'}, inplace=True)"
   ]
  },
  {
   "cell_type": "code",
   "execution_count": null,
   "metadata": {},
   "outputs": [],
   "source": [
    "df"
   ]
  },
  {
   "cell_type": "code",
   "execution_count": null,
   "metadata": {},
   "outputs": [],
   "source": [
    "credentials = SpotifyClientCredentials(client_id=\"6b8119b6cec94f538151d6bb7fd99acd\", client_secret=\"bb3cc9f8fdb04ddb9516ab01c7bfc257\")\n",
    "token = credentials.get_access_token()\n",
    "\n",
    "spotify = spotipy.Spotify(auth=token)\n",
    "\n",
    "features = spotify.audio_features(str(df['ID'].iloc[0]))\n"
   ]
  },
  {
   "cell_type": "code",
   "execution_count": null,
   "metadata": {},
   "outputs": [],
   "source": [
    "features"
   ]
  },
  {
   "cell_type": "code",
   "execution_count": null,
   "metadata": {},
   "outputs": [],
   "source": [
    "def extract_features(df, n_tracks = 50):\n",
    "    dataframe = pd.DataFrame(columns=['id','danceability','energy','key','loudness','mode','speechiness',\n",
    "                                     'acousticness','instrumentalness','liveness','valence','tempo','time_signature',\n",
    "                                     'duration_ms'])\n",
    "    for i in range(n_tracks):\n",
    "        features = spotify.audio_features(str(df['ID'].iloc[i]))\n",
    "        print(features[0]['danceability'])\n",
    "        dataframe.append({'danceability' : features[0]['danceability'],\n",
    "        'energy': features[0]['energy'],\n",
    "        'key' : features[0]['key'],\n",
    "        'loudness' : features[0]['loudness'],\n",
    "        'mode' : features[0]['mode'],\n",
    "        'speechiness' : features[0]['speechiness'],\n",
    "        'acousticness' : features[0]['acousticness'],\n",
    "        'instrumentalness' : features[0]['instrumentalness'],\n",
    "        'liveness' : features[0]['liveness'],\n",
    "        'valence' : features[0]['valence'],\n",
    "        'tempo' : features[0]['tempo'],\n",
    "        'time_signature' : features[0]['time_signature'],\n",
    "        'duration_ms' : features[0]['duration_ms']}, ignore_index=True)\n",
    "    return dataframe"
   ]
  },
  {
   "cell_type": "code",
   "execution_count": null,
   "metadata": {},
   "outputs": [],
   "source": [
    "def extract_features(df, n_tracks = 50):\n",
    "    dataframe = pd.DataFrame(columns=['id','danceability','energy','key','loudness','mode','speechiness',\n",
    "                                     'acousticness','instrumentalness','liveness','valence','tempo','time_signature',\n",
    "                                     'duration_ms'])\n",
    "    for i in range(n_tracks):\n",
    "        features = spotify.audio_features(str(df['ID'].iloc[i]))\n",
    "        dataframe.loc[i] = [ features[0]['id'],\n",
    "        features[0]['danceability'],\n",
    "        features[0]['energy'],\n",
    "        features[0]['key'],\n",
    "        features[0]['loudness'],\n",
    "        features[0]['mode'],\n",
    "        features[0]['speechiness'],\n",
    "        features[0]['acousticness'],\n",
    "        features[0]['instrumentalness'],\n",
    "        features[0]['liveness'],\n",
    "        features[0]['valence'],\n",
    "        features[0]['tempo'],\n",
    "        features[0]['time_signature'],\n",
    "        features[0]['duration_ms']]\n",
    "    return dataframe"
   ]
  },
  {
   "cell_type": "code",
   "execution_count": null,
   "metadata": {},
   "outputs": [],
   "source": [
    "prova = extract_features(df, n_tracks=200)"
   ]
  },
  {
   "cell_type": "code",
   "execution_count": null,
   "metadata": {},
   "outputs": [],
   "source": [
    "prova"
   ]
  },
  {
   "cell_type": "code",
   "execution_count": null,
   "metadata": {},
   "outputs": [],
   "source": [
    "output = df.join(prova.set_index('id'), on='ID')"
   ]
  },
  {
   "cell_type": "code",
   "execution_count": null,
   "metadata": {},
   "outputs": [],
   "source": [
    "output.to_csv('global_08-2017.csv')"
   ]
  },
  {
   "cell_type": "code",
   "execution_count": null,
   "metadata": {},
   "outputs": [],
   "source": [
    "output\n",
    "\n",
    "test=output.iloc[9]\n",
    "print(test)\n",
    "print(type(test['Track Name']))\n",
    "if type(test['Track Name']) != float and type(test['Artist']) != float:\n",
    "    print('no empty')\n",
    "else: \n",
    "    print('empty')"
   ]
  },
  {
   "cell_type": "markdown",
   "metadata": {},
   "source": [
    "## Testing iTunes API for genre labeling\n",
    "Simple test of quering on iTunes API"
   ]
  },
  {
   "cell_type": "code",
   "execution_count": 15,
   "metadata": {},
   "outputs": [
    {
     "ename": "IndexError",
     "evalue": "list index out of range",
     "output_type": "error",
     "traceback": [
      "\u001b[1;31m---------------------------------------------------------------------------\u001b[0m",
      "\u001b[1;31mIndexError\u001b[0m                                Traceback (most recent call last)",
      "\u001b[1;32m<ipython-input-15-816d40155c2c>\u001b[0m in \u001b[0;36m<module>\u001b[1;34m\u001b[0m\n\u001b[0;32m      4\u001b[0m \u001b[0ma\u001b[0m \u001b[1;33m=\u001b[0m \u001b[1;34m'https://itunes.apple.com/search?term='\u001b[0m\u001b[1;33m+\u001b[0m\u001b[0mentry\u001b[0m\u001b[1;33m+\u001b[0m\u001b[1;34m'.&limit=3'\u001b[0m\u001b[1;33m\u001b[0m\u001b[1;33m\u001b[0m\u001b[0m\n\u001b[0;32m      5\u001b[0m \u001b[0mb\u001b[0m \u001b[1;33m=\u001b[0m \u001b[0mrequests\u001b[0m\u001b[1;33m.\u001b[0m\u001b[0mget\u001b[0m\u001b[1;33m(\u001b[0m\u001b[0ma\u001b[0m\u001b[1;33m)\u001b[0m\u001b[1;33m.\u001b[0m\u001b[0mjson\u001b[0m\u001b[1;33m(\u001b[0m\u001b[1;33m)\u001b[0m\u001b[1;33m\u001b[0m\u001b[1;33m\u001b[0m\u001b[0m\n\u001b[1;32m----> 6\u001b[1;33m \u001b[0mprint\u001b[0m\u001b[1;33m(\u001b[0m\u001b[0mb\u001b[0m\u001b[1;33m[\u001b[0m\u001b[1;34m'results'\u001b[0m\u001b[1;33m]\u001b[0m\u001b[1;33m[\u001b[0m\u001b[1;36m0\u001b[0m\u001b[1;33m]\u001b[0m\u001b[1;33m[\u001b[0m\u001b[1;34m'primaryGenreName'\u001b[0m\u001b[1;33m]\u001b[0m\u001b[1;33m)\u001b[0m\u001b[1;33m\u001b[0m\u001b[1;33m\u001b[0m\u001b[0m\n\u001b[0m\u001b[0;32m      7\u001b[0m \u001b[0mprint\u001b[0m\u001b[1;33m(\u001b[0m\u001b[0mjson\u001b[0m\u001b[1;33m.\u001b[0m\u001b[0mdumps\u001b[0m\u001b[1;33m(\u001b[0m\u001b[0mb\u001b[0m\u001b[1;33m,\u001b[0m \u001b[0mindent\u001b[0m\u001b[1;33m=\u001b[0m\u001b[1;36m2\u001b[0m\u001b[1;33m)\u001b[0m\u001b[1;33m)\u001b[0m\u001b[1;33m\u001b[0m\u001b[1;33m\u001b[0m\u001b[0m\n",
      "\u001b[1;31mIndexError\u001b[0m: list index out of range"
     ]
    }
   ],
   "source": [
    "import requests\n",
    "import json\n",
    "entry = 'mr+rain+ipernova'\n",
    "a = 'https://itunes.apple.com/search?term='+entry+'.&limit=3'\n",
    "b = requests.get(a).json()\n",
    "print(b['results'][0]['primaryGenreName'])\n",
    "print(json.dumps(b, indent=2))"
   ]
  },
  {
   "cell_type": "markdown",
   "metadata": {},
   "source": [
    "# Automatizing the feature extraction process"
   ]
  },
  {
   "cell_type": "code",
   "execution_count": 1,
   "metadata": {},
   "outputs": [],
   "source": [
    "import pandas as pd\n",
    "import spotipy\n",
    "#from fycharts.SpotifyCharts import SpotifyCharts\n",
    "from spotipy.oauth2 import SpotifyClientCredentials\n",
    "import os\n",
    "import requests\n",
    "import json\n",
    "import time"
   ]
  },
  {
   "cell_type": "code",
   "execution_count": 2,
   "metadata": {},
   "outputs": [],
   "source": [
    "def extract_features(df, n_tracks = 50):\n",
    "    dataframe = pd.DataFrame(columns=['id','danceability','energy','key','loudness','mode','speechiness',\n",
    "                                     'acousticness','instrumentalness','liveness','valence','tempo','time_signature',\n",
    "                                     'duration_ms'])\n",
    "    for i in range(n_tracks):\n",
    "        features = spotify.audio_features(str(df['ID'].iloc[i]))\n",
    "        print(features[0]['danceability'])\n",
    "        dataframe.append({'danceability' : features[0]['danceability'],\n",
    "        'energy': features[0]['energy'],\n",
    "        'key' : features[0]['key'],\n",
    "        'loudness' : features[0]['loudness'],\n",
    "        'mode' : features[0]['mode'],\n",
    "        'speechiness' : features[0]['speechiness'],\n",
    "        'acousticness' : features[0]['acousticness'],\n",
    "        'instrumentalness' : features[0]['instrumentalness'],\n",
    "        'liveness' : features[0]['liveness'],\n",
    "        'valence' : features[0]['valence'],\n",
    "        'tempo' : features[0]['tempo'],\n",
    "        'time_signature' : features[0]['time_signature'],\n",
    "        'duration_ms' : features[0]['duration_ms']}, ignore_index=True)\n",
    "    return dataframe"
   ]
  },
  {
   "cell_type": "code",
   "execution_count": 3,
   "metadata": {},
   "outputs": [],
   "source": [
    "def extract_features(df, n_tracks = 50):\n",
    "    dataframe = pd.DataFrame(columns=['id','danceability','energy','key','loudness','mode','speechiness',\n",
    "                                     'acousticness','instrumentalness','liveness','valence','tempo','time_signature',\n",
    "                                     'duration_ms'])\n",
    "    for i in range(n_tracks):\n",
    "        features = spotify.audio_features(str(df['ID'].iloc[i]))\n",
    "        dataframe.loc[i] = [ features[0]['id'],\n",
    "        features[0]['danceability'],\n",
    "        features[0]['energy'],\n",
    "        features[0]['key'],\n",
    "        features[0]['loudness'],\n",
    "        features[0]['mode'],\n",
    "        features[0]['speechiness'],\n",
    "        features[0]['acousticness'],\n",
    "        features[0]['instrumentalness'],\n",
    "        features[0]['liveness'],\n",
    "        features[0]['valence'],\n",
    "        features[0]['tempo'],\n",
    "        features[0]['time_signature'],\n",
    "        features[0]['duration_ms']]\n",
    "    return dataframe"
   ]
  },
  {
   "cell_type": "code",
   "execution_count": 5,
   "metadata": {},
   "outputs": [
    {
     "name": "stdout",
     "output_type": "stream",
     "text": [
      "[12, 37, 52, 120]\n",
      "fr_2017-07-14--2017-07-21.csv\n"
     ]
    }
   ],
   "source": [
    "#checking data integrity. Checks for missing fields in Artist name. Return the rows with missing values + the file name. \n",
    "#These data are missing because of copyright issues. They changed the author of the song/removed the song. \n",
    "import numpy as np\n",
    "\n",
    "from IPython.display import display, HTML\n",
    "\n",
    "path = os.getcwd()\n",
    "file_folder = os.path.join(path,'fr')\n",
    "\n",
    "for csv_file in os.listdir(file_folder):\n",
    "    file = os.path.join(file_folder,csv_file)\n",
    "    #print(csv_file)\n",
    "    df = pd.read_csv(file)\n",
    "    #display(df)\n",
    "    df.columns = df.iloc[0]\n",
    "    df = df.iloc[1:].reset_index()\n",
    "    df.URL.astype('str')\n",
    "    df.URL = df.URL.apply(lambda x : x[31:])\n",
    "    df.rename(columns={'URL':'ID'}, inplace=True)\n",
    "    \n",
    "    res = df.loc[df['Artist'].isnull(), 'index'].tolist()\n",
    "    if len(res) != 0:\n",
    "        print(res)\n",
    "        print(csv_file)\n",
    "\n",
    "    \n",
    "    \n",
    " "
   ]
  },
  {
   "cell_type": "code",
   "execution_count": 8,
   "metadata": {
    "scrolled": true
   },
   "outputs": [
    {
     "name": "stdout",
     "output_type": "stream",
     "text": [
      "fr_2016-12-23--2016-12-30.csv\n"
     ]
    },
    {
     "name": "stderr",
     "output_type": "stream",
     "text": [
      "<ipython-input-8-363edce6d19f>:16: DeprecationWarning: You're using 'as_dict = True'.get_access_token will return the token string directly in future versions. Please adjust your code accordingly, or use get_cached_token instead.\n",
      "  token = credentials.get_access_token()\n"
     ]
    },
    {
     "name": "stdout",
     "output_type": "stream",
     "text": [
      "fr_2016-12-30--2017-01-06.csv\n",
      "fr_2017-01-06--2017-01-13.csv\n",
      "fr_2017-01-13--2017-01-20.csv\n",
      "fr_2017-01-20--2017-01-27.csv\n",
      "fr_2017-01-27--2017-02-03.csv\n",
      "fr_2017-02-03--2017-02-10.csv\n",
      "fr_2017-02-10--2017-02-17.csv\n",
      "fr_2017-02-17--2017-02-24.csv\n",
      "fr_2017-02-24--2017-03-03.csv\n",
      "fr_2017-03-03--2017-03-10.csv\n",
      "fr_2017-03-10--2017-03-17.csv\n",
      "fr_2017-03-17--2017-03-24.csv\n",
      "fr_2017-03-24--2017-03-31.csv\n",
      "fr_2017-03-31--2017-04-07.csv\n",
      "fr_2017-04-07--2017-04-14.csv\n",
      "fr_2017-04-14--2017-04-21.csv\n",
      "fr_2017-04-21--2017-04-28.csv\n",
      "fr_2017-04-28--2017-05-05.csv\n",
      "fr_2017-05-05--2017-05-12.csv\n",
      "fr_2017-05-12--2017-05-19.csv\n",
      "fr_2017-05-19--2017-05-26.csv\n",
      "fr_2017-05-26--2017-06-02.csv\n",
      "fr_2017-06-02--2017-06-09.csv\n",
      "fr_2017-06-09--2017-06-16.csv\n",
      "fr_2017-06-16--2017-06-23.csv\n",
      "fr_2017-06-23--2017-06-30.csv\n",
      "fr_2017-06-30--2017-07-07.csv\n",
      "fr_2017-07-07--2017-07-14.csv\n",
      "fr_2017-07-14--2017-07-21.csv\n",
      "fr_2017-07-21--2017-07-28.csv\n",
      "fr_2017-07-28--2017-08-04.csv\n",
      "fr_2017-08-04--2017-08-11.csv\n",
      "fr_2017-08-11--2017-08-18.csv\n",
      "fr_2017-08-18--2017-08-25.csv\n",
      "fr_2017-08-25--2017-09-01.csv\n",
      "fr_2017-09-01--2017-09-08.csv\n",
      "fr_2017-09-08--2017-09-15.csv\n",
      "fr_2017-09-15--2017-09-22.csv\n",
      "fr_2017-09-22--2017-09-29.csv\n",
      "fr_2017-09-29--2017-10-06.csv\n",
      "fr_2017-10-06--2017-10-13.csv\n",
      "fr_2017-10-13--2017-10-20.csv\n",
      "fr_2017-10-20--2017-10-27.csv\n",
      "fr_2017-10-27--2017-11-03.csv\n",
      "fr_2017-11-03--2017-11-10.csv\n",
      "fr_2017-11-10--2017-11-17.csv\n",
      "fr_2017-11-17--2017-11-24.csv\n",
      "fr_2017-11-24--2017-12-01.csv\n",
      "fr_2017-12-01--2017-12-08.csv\n",
      "fr_2017-12-08--2017-12-15.csv\n",
      "fr_2017-12-15--2017-12-22.csv\n",
      "fr_2017-12-22--2017-12-29.csv\n",
      "fr_2017-12-29--2018-01-05.csv\n",
      "fr_2018-01-05--2018-01-12.csv\n",
      "fr_2018-01-12--2018-01-19.csv\n",
      "fr_2018-01-19--2018-01-26.csv\n",
      "fr_2018-01-26--2018-02-02.csv\n",
      "fr_2018-02-02--2018-02-09.csv\n",
      "fr_2018-02-09--2018-02-16.csv\n",
      "fr_2018-02-16--2018-02-23.csv\n",
      "fr_2018-02-23--2018-03-02.csv\n",
      "fr_2018-03-02--2018-03-09.csv\n",
      "fr_2018-03-09--2018-03-16.csv\n",
      "fr_2018-03-16--2018-03-23.csv\n",
      "fr_2018-03-23--2018-03-30.csv\n",
      "fr_2018-03-30--2018-04-06.csv\n",
      "fr_2018-04-06--2018-04-13.csv\n",
      "fr_2018-04-13--2018-04-20.csv\n",
      "fr_2018-04-20--2018-04-27.csv\n",
      "fr_2018-04-27--2018-05-04.csv\n",
      "fr_2018-05-04--2018-05-11.csv\n",
      "fr_2018-05-11--2018-05-18.csv\n",
      "fr_2018-05-18--2018-05-25.csv\n",
      "fr_2018-05-25--2018-06-01.csv\n",
      "fr_2018-06-01--2018-06-08.csv\n",
      "fr_2018-06-08--2018-06-15.csv\n",
      "fr_2018-06-15--2018-06-22.csv\n",
      "fr_2018-06-22--2018-06-29.csv\n",
      "fr_2018-06-29--2018-07-06.csv\n",
      "fr_2018-07-06--2018-07-13.csv\n",
      "fr_2018-07-13--2018-07-20.csv\n",
      "fr_2018-07-20--2018-07-27.csv\n",
      "fr_2018-07-27--2018-08-03.csv\n",
      "fr_2018-08-03--2018-08-10.csv\n",
      "fr_2018-08-10--2018-08-17.csv\n",
      "fr_2018-08-17--2018-08-24.csv\n",
      "fr_2018-08-24--2018-08-31.csv\n",
      "fr_2018-08-31--2018-09-07.csv\n",
      "fr_2018-09-07--2018-09-14.csv\n",
      "fr_2018-09-14--2018-09-21.csv\n",
      "fr_2018-09-21--2018-09-28.csv\n",
      "fr_2018-09-28--2018-10-05.csv\n",
      "fr_2018-10-05--2018-10-12.csv\n",
      "fr_2018-10-12--2018-10-19.csv\n",
      "fr_2018-10-19--2018-10-26.csv\n",
      "fr_2018-10-26--2018-11-02.csv\n",
      "fr_2018-11-02--2018-11-09.csv\n",
      "fr_2018-11-09--2018-11-16.csv\n",
      "fr_2018-11-16--2018-11-23.csv\n",
      "fr_2018-11-23--2018-11-30.csv\n",
      "fr_2018-11-30--2018-12-07.csv\n",
      "fr_2018-12-07--2018-12-14.csv\n",
      "fr_2018-12-14--2018-12-21.csv\n",
      "fr_2018-12-21--2018-12-28.csv\n",
      "fr_2018-12-28--2019-01-04.csv\n",
      "fr_2019-01-04--2019-01-11.csv\n",
      "fr_2019-01-11--2019-01-18.csv\n",
      "fr_2019-01-18--2019-01-25.csv\n",
      "fr_2019-01-25--2019-02-01.csv\n",
      "fr_2019-02-01--2019-02-08.csv\n",
      "fr_2019-02-08--2019-02-15.csv\n",
      "fr_2019-02-15--2019-02-22.csv\n",
      "fr_2019-02-22--2019-03-01.csv\n",
      "fr_2019-03-01--2019-03-08.csv\n",
      "fr_2019-03-08--2019-03-15.csv\n",
      "fr_2019-03-15--2019-03-22.csv\n",
      "fr_2019-03-22--2019-03-29.csv\n",
      "fr_2019-03-29--2019-04-05.csv\n",
      "fr_2019-04-05--2019-04-12.csv\n",
      "fr_2019-04-12--2019-04-19.csv\n",
      "fr_2019-04-19--2019-04-26.csv\n",
      "fr_2019-04-26--2019-05-03.csv\n",
      "fr_2019-05-03--2019-05-10.csv\n",
      "fr_2019-05-10--2019-05-17.csv\n",
      "fr_2019-05-17--2019-05-24.csv\n",
      "fr_2019-05-24--2019-05-31.csv\n",
      "fr_2019-05-31--2019-06-07.csv\n",
      "fr_2019-06-07--2019-06-14.csv\n",
      "fr_2019-06-14--2019-06-21.csv\n",
      "fr_2019-06-21--2019-06-28.csv\n",
      "fr_2019-06-28--2019-07-05.csv\n",
      "fr_2019-07-05--2019-07-12.csv\n",
      "fr_2019-07-12--2019-07-19.csv\n",
      "fr_2019-07-19--2019-07-26.csv\n",
      "fr_2019-07-26--2019-08-02.csv\n",
      "fr_2019-08-02--2019-08-09.csv\n",
      "fr_2019-08-09--2019-08-16.csv\n",
      "fr_2019-08-16--2019-08-23.csv\n",
      "fr_2019-08-23--2019-08-30.csv\n",
      "fr_2019-08-30--2019-09-06.csv\n",
      "fr_2019-09-06--2019-09-13.csv\n",
      "fr_2019-09-13--2019-09-20.csv\n",
      "fr_2019-09-20--2019-09-27.csv\n",
      "fr_2019-09-27--2019-10-04.csv\n",
      "fr_2019-10-04--2019-10-11.csv\n",
      "fr_2019-10-11--2019-10-18.csv\n",
      "fr_2019-10-18--2019-10-25.csv\n",
      "fr_2019-10-25--2019-11-01.csv\n",
      "fr_2019-11-01--2019-11-08.csv\n",
      "fr_2019-11-08--2019-11-15.csv\n",
      "fr_2019-11-15--2019-11-22.csv\n",
      "fr_2019-11-22--2019-11-29.csv\n",
      "fr_2019-11-29--2019-12-06.csv\n",
      "fr_2019-12-06--2019-12-13.csv\n",
      "fr_2019-12-13--2019-12-20.csv\n",
      "fr_2019-12-20--2019-12-27.csv\n",
      "fr_2019-12-27--2020-01-03.csv\n",
      "fr_2020-01-03--2020-01-10.csv\n",
      "fr_2020-01-10--2020-01-17.csv\n",
      "fr_2020-01-17--2020-01-24.csv\n",
      "fr_2020-01-24--2020-01-31.csv\n",
      "fr_2020-01-31--2020-02-07.csv\n",
      "fr_2020-02-07--2020-02-14.csv\n",
      "fr_2020-02-14--2020-02-21.csv\n",
      "fr_2020-02-21--2020-02-28.csv\n",
      "fr_2020-02-28--2020-03-06.csv\n",
      "fr_2020-03-06--2020-03-13.csv\n",
      "fr_2020-03-13--2020-03-20.csv\n",
      "fr_2020-03-20--2020-03-27.csv\n",
      "fr_2020-03-27--2020-04-03.csv\n",
      "fr_2020-04-03--2020-04-10.csv\n",
      "fr_2020-04-10--2020-04-17.csv\n",
      "fr_2020-04-17--2020-04-24.csv\n",
      "fr_2020-04-24--2020-05-01.csv\n",
      "fr_2020-05-01--2020-05-08.csv\n",
      "fr_2020-05-08--2020-05-15.csv\n",
      "fr_2020-05-15--2020-05-22.csv\n",
      "fr_2020-05-22--2020-05-29.csv\n",
      "fr_2020-05-29--2020-06-05.csv\n",
      "fr_2020-06-05--2020-06-12.csv\n",
      "fr_2020-06-12--2020-06-19.csv\n",
      "fr_2020-06-19--2020-06-26.csv\n",
      "fr_2020-06-26--2020-07-03.csv\n",
      "fr_2020-07-03--2020-07-10.csv\n",
      "fr_2020-07-10--2020-07-17.csv\n",
      "fr_2020-07-17--2020-07-24.csv\n",
      "fr_2020-07-24--2020-07-31.csv\n"
     ]
    }
   ],
   "source": [
    "path = os.getcwd()\n",
    "file_folder = os.path.join(path,'fr')\n",
    "save_folder_path = os.path.join(path, \"fr_features\")\n",
    "os.mkdir(save_folder_path)\n",
    "\n",
    "for csv_file in os.listdir(file_folder): \n",
    "    print(csv_file)\n",
    "    file = os.path.join(file_folder,csv_file)\n",
    "    df = pd.read_csv(file)\n",
    "    df.columns = df.iloc[0]\n",
    "    df = df.iloc[1:].reset_index()\n",
    "    df.URL.astype('str')\n",
    "    df.URL = df.URL.apply(lambda x : x[31:])\n",
    "    df.rename(columns={'URL':'ID'}, inplace=True)\n",
    "    credentials = SpotifyClientCredentials(client_id=\"6b8119b6cec94f538151d6bb7fd99acd\", client_secret=\"bb3cc9f8fdb04ddb9516ab01c7bfc257\")\n",
    "    token = credentials.get_access_token()\n",
    "    spotify = spotipy.Spotify(auth=token)\n",
    "    features = spotify.audio_features(str(df['ID'].iloc[0]))\n",
    "    prova = extract_features(df, n_tracks=200)\n",
    "    output = df.join(prova.set_index('id'), on='ID')\n",
    "    output['genre']= \"none\"\n",
    "    '''for index, row in output.iterrows():\n",
    "        artist = row[\"Artist\"]\n",
    "        song = row[\"Track Name\"]\n",
    "        if type(artist) != float and type(song) != float:\n",
    "            song = song.split('(')[0]\n",
    "            query_entry = str(artist)+\" \"+str(song)\n",
    "            query_entry = query_entry.replace(\"with\", \"\")\n",
    "            query_entry= query_entry.replace('Remastered', \"\")\n",
    "            query_entry= query_entry.replace('Version', \"\")\n",
    "\n",
    "            query_entry = query_entry.replace(\"'\", \"\")\n",
    "            query_entry = query_entry.replace('\"', \"\")\n",
    "\n",
    "            query_entry=query_entry.replace(\" \", \"+\")\n",
    "\n",
    "            #query_entry = query_entry[0:60]\n",
    "            query_entry = query_entry.lower()\n",
    "            print(query_entry)\n",
    "            a = 'https://itunes.apple.com/search?term='+query_entry+'&limit=1'\n",
    "            test = requests.get(a)\n",
    "            print(test)\n",
    "            b = test.json()\n",
    "            if b['resultCount'] == 1:\n",
    "\n",
    "                print(b['results'][0]['primaryGenreName'])\n",
    "                #assign genre to song\n",
    "                print(index)\n",
    "                output.iloc[index, output.columns.get_loc('genre')]= b['results'][0]['primaryGenreName']\n",
    "            time.sleep(0.5)\n",
    "            #print(json.dumps(b, indent=2))'''\n",
    "    output.to_csv(os.path.join(save_folder_path,csv_file))\n",
    "\n",
    "\n"
   ]
  },
  {
   "cell_type": "code",
   "execution_count": null,
   "metadata": {},
   "outputs": [],
   "source": [
    "#Testing on spotify release date.\n",
    "import os\n",
    "import pandas as pd\n",
    "from IPython.display import display, HTML\n",
    "\n",
    "credentials = SpotifyClientCredentials(client_id=\"6b8119b6cec94f538151d6bb7fd99acd\", client_secret=\"bb3cc9f8fdb04ddb9516ab01c7bfc257\")\n",
    "token = credentials.get_access_token()\n",
    "spotify = spotipy.Spotify(auth=token)\n",
    "#features = spotify.audio_features(str(df['ID'].iloc[0]))\n",
    "\n",
    "path = os.getcwd()\n",
    "file_folder = os.path.join(path,'it_features')\n",
    "for csv_file in os.listdir(file_folder):\n",
    "    csv_path = os.path.join(file_folder,csv_file)\n",
    "    df_temp = pd.read_csv(csv_path)\n",
    "    df_temp['release date'] = 'none'\n",
    "    for index, row in df_temp.iterrows():\n",
    "        ID = row[\"ID\"]\n",
    "        result = spotify.track(ID)\n",
    "        release_date=result['album']['release_date']\n",
    "        df_temp.iloc[index, df_temp.columns.get_loc('release date')] = release_date\n",
    "    df_temp.to_csv(os.path.join(file_folder,csv_file))"
   ]
  },
  {
   "cell_type": "code",
   "execution_count": null,
   "metadata": {},
   "outputs": [],
   "source": [
    "credentials = SpotifyClientCredentials(client_id=\"6b8119b6cec94f538151d6bb7fd99acd\", client_secret=\"bb3cc9f8fdb04ddb9516ab01c7bfc257\")\n",
    "token = credentials.get_access_token()\n",
    "spotify = spotipy.Spotify(auth=token)\n",
    "result = spotify.track('6GpvHaqp0Yybx9P6YnodRD')\n",
    "print(result)"
   ]
  },
  {
   "cell_type": "code",
   "execution_count": null,
   "metadata": {},
   "outputs": [],
   "source": []
  }
 ],
 "metadata": {
  "kernelspec": {
   "display_name": "Python 3",
   "language": "python",
   "name": "python3"
  },
  "language_info": {
   "codemirror_mode": {
    "name": "ipython",
    "version": 3
   },
   "file_extension": ".py",
   "mimetype": "text/x-python",
   "name": "python",
   "nbconvert_exporter": "python",
   "pygments_lexer": "ipython3",
   "version": "3.8.5"
  }
 },
 "nbformat": 4,
 "nbformat_minor": 4
}
