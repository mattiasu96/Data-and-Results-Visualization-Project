{
 "cells": [
  {
   "cell_type": "code",
   "execution_count": null,
   "metadata": {},
   "outputs": [],
   "source": [
    "import pandas as pd\n",
    "import spotipy\n",
    "#from fycharts.SpotifyCharts import SpotifyCharts\n",
    "from spotipy.oauth2 import SpotifyClientCredentials"
   ]
  },
  {
   "cell_type": "code",
   "execution_count": null,
   "metadata": {},
   "outputs": [],
   "source": [
    "df = pd.read_csv('global_2017-07-14--2017-07-21.csv')"
   ]
  },
  {
   "cell_type": "code",
   "execution_count": null,
   "metadata": {},
   "outputs": [],
   "source": [
    "df"
   ]
  },
  {
   "cell_type": "code",
   "execution_count": null,
   "metadata": {},
   "outputs": [],
   "source": [
    "df.columns = df.iloc[0]"
   ]
  },
  {
   "cell_type": "code",
   "execution_count": null,
   "metadata": {},
   "outputs": [],
   "source": [
    "df = df.iloc[1:].reset_index()"
   ]
  },
  {
   "cell_type": "code",
   "execution_count": null,
   "metadata": {},
   "outputs": [],
   "source": [
    "df.URL.astype('str')"
   ]
  },
  {
   "cell_type": "code",
   "execution_count": null,
   "metadata": {},
   "outputs": [],
   "source": [
    "df.URL = df.URL.apply(lambda x : x[31:])"
   ]
  },
  {
   "cell_type": "code",
   "execution_count": null,
   "metadata": {},
   "outputs": [],
   "source": [
    "df.rename(columns={'URL':'ID'}, inplace=True)"
   ]
  },
  {
   "cell_type": "code",
   "execution_count": null,
   "metadata": {},
   "outputs": [],
   "source": [
    "df"
   ]
  },
  {
   "cell_type": "code",
   "execution_count": null,
   "metadata": {},
   "outputs": [],
   "source": [
    "credentials = SpotifyClientCredentials(client_id=\"6b8119b6cec94f538151d6bb7fd99acd\", client_secret=\"bb3cc9f8fdb04ddb9516ab01c7bfc257\")\n",
    "token = credentials.get_access_token()\n",
    "\n",
    "spotify = spotipy.Spotify(auth=token)\n",
    "\n",
    "features = spotify.audio_features(str(df['ID'].iloc[0]))\n"
   ]
  },
  {
   "cell_type": "code",
   "execution_count": null,
   "metadata": {},
   "outputs": [],
   "source": [
    "features"
   ]
  },
  {
   "cell_type": "code",
   "execution_count": null,
   "metadata": {},
   "outputs": [],
   "source": [
    "def extract_features(df, n_tracks = 50):\n",
    "    dataframe = pd.DataFrame(columns=['id','danceability','energy','key','loudness','mode','speechiness',\n",
    "                                     'acousticness','instrumentalness','liveness','valence','tempo','time_signature',\n",
    "                                     'duration_ms'])\n",
    "    for i in range(n_tracks):\n",
    "        features = spotify.audio_features(str(df['ID'].iloc[i]))\n",
    "        print(features[0]['danceability'])\n",
    "        dataframe.append({'danceability' : features[0]['danceability'],\n",
    "        'energy': features[0]['energy'],\n",
    "        'key' : features[0]['key'],\n",
    "        'loudness' : features[0]['loudness'],\n",
    "        'mode' : features[0]['mode'],\n",
    "        'speechiness' : features[0]['speechiness'],\n",
    "        'acousticness' : features[0]['acousticness'],\n",
    "        'instrumentalness' : features[0]['instrumentalness'],\n",
    "        'liveness' : features[0]['liveness'],\n",
    "        'valence' : features[0]['valence'],\n",
    "        'tempo' : features[0]['tempo'],\n",
    "        'time_signature' : features[0]['time_signature'],\n",
    "        'duration_ms' : features[0]['duration_ms']}, ignore_index=True)\n",
    "    return dataframe"
   ]
  },
  {
   "cell_type": "code",
   "execution_count": null,
   "metadata": {},
   "outputs": [],
   "source": [
    "def extract_features(df, n_tracks = 50):\n",
    "    dataframe = pd.DataFrame(columns=['id','danceability','energy','key','loudness','mode','speechiness',\n",
    "                                     'acousticness','instrumentalness','liveness','valence','tempo','time_signature',\n",
    "                                     'duration_ms'])\n",
    "    for i in range(n_tracks):\n",
    "        features = spotify.audio_features(str(df['ID'].iloc[i]))\n",
    "        dataframe.loc[i] = [ features[0]['id'],\n",
    "        features[0]['danceability'],\n",
    "        features[0]['energy'],\n",
    "        features[0]['key'],\n",
    "        features[0]['loudness'],\n",
    "        features[0]['mode'],\n",
    "        features[0]['speechiness'],\n",
    "        features[0]['acousticness'],\n",
    "        features[0]['instrumentalness'],\n",
    "        features[0]['liveness'],\n",
    "        features[0]['valence'],\n",
    "        features[0]['tempo'],\n",
    "        features[0]['time_signature'],\n",
    "        features[0]['duration_ms']]\n",
    "    return dataframe"
   ]
  },
  {
   "cell_type": "code",
   "execution_count": null,
   "metadata": {},
   "outputs": [],
   "source": [
    "prova = extract_features(df, n_tracks=200)"
   ]
  },
  {
   "cell_type": "code",
   "execution_count": null,
   "metadata": {},
   "outputs": [],
   "source": [
    "prova"
   ]
  },
  {
   "cell_type": "code",
   "execution_count": null,
   "metadata": {},
   "outputs": [],
   "source": [
    "output = df.join(prova.set_index('id'), on='ID')"
   ]
  },
  {
   "cell_type": "code",
   "execution_count": null,
   "metadata": {},
   "outputs": [],
   "source": [
    "output.to_csv('global_08-2017.csv')"
   ]
  },
  {
   "cell_type": "code",
   "execution_count": null,
   "metadata": {},
   "outputs": [],
   "source": [
    "output\n",
    "\n",
    "test=output.iloc[9]\n",
    "print(test)\n",
    "print(type(test['Track Name']))\n",
    "if type(test['Track Name']) != float and type(test['Artist']) != float:\n",
    "    print('no empty')\n",
    "else: \n",
    "    print('empty')"
   ]
  },
  {
   "cell_type": "markdown",
   "metadata": {},
   "source": [
    "## Testing iTunes API for genre labeling\n",
    "Simple test of quering on iTunes API"
   ]
  },
  {
   "cell_type": "code",
   "execution_count": null,
   "metadata": {},
   "outputs": [],
   "source": [
    "import requests\n",
    "import json\n",
    "entry = 'ghali'\n",
    "a = 'https://itunes.apple.com/search?term='+entry+'.&limit=1'\n",
    "b = requests.get(a).json()\n",
    "print(b['results'][0]['primaryGenreName'])\n",
    "print(json.dumps(b, indent=2))"
   ]
  },
  {
   "cell_type": "markdown",
   "metadata": {},
   "source": [
    "# Automatizing the feature extraction process"
   ]
  },
  {
   "cell_type": "code",
   "execution_count": null,
   "metadata": {},
   "outputs": [],
   "source": [
    "import pandas as pd\n",
    "import spotipy\n",
    "#from fycharts.SpotifyCharts import SpotifyCharts\n",
    "from spotipy.oauth2 import SpotifyClientCredentials\n",
    "import os\n",
    "import requests\n",
    "import json\n",
    "import time"
   ]
  },
  {
   "cell_type": "code",
   "execution_count": null,
   "metadata": {},
   "outputs": [],
   "source": [
    "def extract_features(df, n_tracks = 50):\n",
    "    dataframe = pd.DataFrame(columns=['id','danceability','energy','key','loudness','mode','speechiness',\n",
    "                                     'acousticness','instrumentalness','liveness','valence','tempo','time_signature',\n",
    "                                     'duration_ms'])\n",
    "    for i in range(n_tracks):\n",
    "        features = spotify.audio_features(str(df['ID'].iloc[i]))\n",
    "        print(features[0]['danceability'])\n",
    "        dataframe.append({'danceability' : features[0]['danceability'],\n",
    "        'energy': features[0]['energy'],\n",
    "        'key' : features[0]['key'],\n",
    "        'loudness' : features[0]['loudness'],\n",
    "        'mode' : features[0]['mode'],\n",
    "        'speechiness' : features[0]['speechiness'],\n",
    "        'acousticness' : features[0]['acousticness'],\n",
    "        'instrumentalness' : features[0]['instrumentalness'],\n",
    "        'liveness' : features[0]['liveness'],\n",
    "        'valence' : features[0]['valence'],\n",
    "        'tempo' : features[0]['tempo'],\n",
    "        'time_signature' : features[0]['time_signature'],\n",
    "        'duration_ms' : features[0]['duration_ms']}, ignore_index=True)\n",
    "    return dataframe"
   ]
  },
  {
   "cell_type": "code",
   "execution_count": null,
   "metadata": {},
   "outputs": [],
   "source": [
    "def extract_features(df, n_tracks = 50):\n",
    "    dataframe = pd.DataFrame(columns=['id','danceability','energy','key','loudness','mode','speechiness',\n",
    "                                     'acousticness','instrumentalness','liveness','valence','tempo','time_signature',\n",
    "                                     'duration_ms'])\n",
    "    for i in range(n_tracks):\n",
    "        features = spotify.audio_features(str(df['ID'].iloc[i]))\n",
    "        dataframe.loc[i] = [ features[0]['id'],\n",
    "        features[0]['danceability'],\n",
    "        features[0]['energy'],\n",
    "        features[0]['key'],\n",
    "        features[0]['loudness'],\n",
    "        features[0]['mode'],\n",
    "        features[0]['speechiness'],\n",
    "        features[0]['acousticness'],\n",
    "        features[0]['instrumentalness'],\n",
    "        features[0]['liveness'],\n",
    "        features[0]['valence'],\n",
    "        features[0]['tempo'],\n",
    "        features[0]['time_signature'],\n",
    "        features[0]['duration_ms']]\n",
    "    return dataframe"
   ]
  },
  {
   "cell_type": "code",
   "execution_count": null,
   "metadata": {},
   "outputs": [],
   "source": [
    "#checking data integrity. Checks for missing fields in Artist name. Return the rows with missing values + the file name. \n",
    "#These data are missing because of copyright issues. They changed the author of the song/removed the song. \n",
    "import numpy as np\n",
    "\n",
    "from IPython.display import display, HTML\n",
    "\n",
    "path = os.getcwd()\n",
    "file_folder = os.path.join(path,'br')\n",
    "\n",
    "for csv_file in os.listdir(file_folder):\n",
    "    file = os.path.join(file_folder,csv_file)\n",
    "    #print(csv_file)\n",
    "    df = pd.read_csv(file)\n",
    "    #display(df)\n",
    "    df.columns = df.iloc[0]\n",
    "    df = df.iloc[1:].reset_index()\n",
    "    df.URL.astype('str')\n",
    "    df.URL = df.URL.apply(lambda x : x[31:])\n",
    "    df.rename(columns={'URL':'ID'}, inplace=True)\n",
    "    \n",
    "    res = df.loc[df['Artist'].isnull(), 'index'].tolist()\n",
    "    if len(res) != 0:\n",
    "        print(res)\n",
    "        print(csv_file)\n",
    "\n",
    "    \n",
    "    \n",
    " "
   ]
  },
  {
   "cell_type": "code",
   "execution_count": null,
   "metadata": {
    "scrolled": true
   },
   "outputs": [],
   "source": [
    "path = os.getcwd()\n",
    "file_folder = os.path.join(path,'br 2')\n",
    "save_folder_path = os.path.join(path, \"br_features\")\n",
    "#os.mkdir(save_folder_path)\n",
    "\n",
    "for csv_file in os.listdir(file_folder): \n",
    "    print(csv_file)\n",
    "    file = os.path.join(file_folder,csv_file)\n",
    "    df = pd.read_csv(file)\n",
    "    df.columns = df.iloc[0]\n",
    "    df = df.iloc[1:].reset_index()\n",
    "    df.URL.astype('str')\n",
    "    df.URL = df.URL.apply(lambda x : x[31:])\n",
    "    df.rename(columns={'URL':'ID'}, inplace=True)\n",
    "    credentials = SpotifyClientCredentials(client_id=\"6b8119b6cec94f538151d6bb7fd99acd\", client_secret=\"bb3cc9f8fdb04ddb9516ab01c7bfc257\")\n",
    "    token = credentials.get_access_token()\n",
    "    spotify = spotipy.Spotify(auth=token)\n",
    "    features = spotify.audio_features(str(df['ID'].iloc[0]))\n",
    "    prova = extract_features(df, n_tracks=200)\n",
    "    output = df.join(prova.set_index('id'), on='ID')\n",
    "    output['genre']= \"none\"\n",
    "    for index, row in output.iterrows():\n",
    "        artist = row[\"Artist\"]\n",
    "        song = row[\"Track Name\"]\n",
    "        if type(artist) != float and type(song) != float:\n",
    "            song = song.split('(')[0]\n",
    "            query_entry = str(artist)+\" \"+str(song)\n",
    "            query_entry = query_entry.replace(\"with\", \"\")\n",
    "            query_entry= query_entry.replace('Remastered', \"\")\n",
    "            query_entry= query_entry.replace('Version', \"\")\n",
    "\n",
    "            query_entry = query_entry.replace(\"'\", \"\")\n",
    "            query_entry = query_entry.replace('\"', \"\")\n",
    "\n",
    "            query_entry=query_entry.replace(\" \", \"+\")\n",
    "\n",
    "            #query_entry = query_entry[0:60]\n",
    "            query_entry = query_entry.lower()\n",
    "            print(query_entry)\n",
    "            a = 'https://itunes.apple.com/search?term='+query_entry+'&limit=1'\n",
    "            test = requests.get(a)\n",
    "            print(test)\n",
    "            b = test.json()\n",
    "            if b['resultCount'] == 1:\n",
    "\n",
    "                print(b['results'][0]['primaryGenreName'])\n",
    "                #assign genre to song\n",
    "                print(index)\n",
    "                output.iloc[index, output.columns.get_loc('genre')]= b['results'][0]['primaryGenreName']\n",
    "            time.sleep(0.5)\n",
    "            #print(json.dumps(b, indent=2))\n",
    "    output.to_csv(os.path.join(save_folder_path,csv_file))\n",
    "\n",
    "\n"
   ]
  },
  {
   "cell_type": "code",
   "execution_count": null,
   "metadata": {},
   "outputs": [],
   "source": [
    "#Testing on spotify release date.\n",
    "import os\n",
    "import pandas as pd\n",
    "from IPython.display import display, HTML\n",
    "\n",
    "credentials = SpotifyClientCredentials(client_id=\"6b8119b6cec94f538151d6bb7fd99acd\", client_secret=\"bb3cc9f8fdb04ddb9516ab01c7bfc257\")\n",
    "token = credentials.get_access_token()\n",
    "spotify = spotipy.Spotify(auth=token)\n",
    "#features = spotify.audio_features(str(df['ID'].iloc[0]))\n",
    "\n",
    "path = os.getcwd()\n",
    "file_folder = os.path.join(path,'it_features')\n",
    "for csv_file in os.listdir(file_folder):\n",
    "    csv_path = os.path.join(file_folder,csv_file)\n",
    "    df_temp = pd.read_csv(csv_path)\n",
    "    df_temp['release date'] = 'none'\n",
    "    for index, row in df_temp.iterrows():\n",
    "        ID = row[\"ID\"]\n",
    "        result = spotify.track(ID)\n",
    "        release_date=result['album']['release_date']\n",
    "        df_temp.iloc[index, df_temp.columns.get_loc('release date')] = release_date\n",
    "    df_temp.to_csv(os.path.join(file_folder,csv_file))"
   ]
  },
  {
   "cell_type": "code",
   "execution_count": null,
   "metadata": {},
   "outputs": [],
   "source": [
    "credentials = SpotifyClientCredentials(client_id=\"6b8119b6cec94f538151d6bb7fd99acd\", client_secret=\"bb3cc9f8fdb04ddb9516ab01c7bfc257\")\n",
    "token = credentials.get_access_token()\n",
    "spotify = spotipy.Spotify(auth=token)\n",
    "result = spotify.track('6GpvHaqp0Yybx9P6YnodRD')\n",
    "print(result)"
   ]
  },
  {
   "cell_type": "code",
   "execution_count": null,
   "metadata": {},
   "outputs": [],
   "source": []
  }
 ],
 "metadata": {
  "kernelspec": {
   "display_name": "Python 3",
   "language": "python",
   "name": "python3"
  },
  "language_info": {
   "codemirror_mode": {
    "name": "ipython",
    "version": 3
   },
   "file_extension": ".py",
   "mimetype": "text/x-python",
   "name": "python",
   "nbconvert_exporter": "python",
   "pygments_lexer": "ipython3",
   "version": "3.8.5"
  }
 },
 "nbformat": 4,
 "nbformat_minor": 4
}
