{
 "cells": [
  {
   "cell_type": "markdown",
   "metadata": {},
   "source": [
    "# Radar Chart with song features"
   ]
  },
  {
   "cell_type": "markdown",
   "metadata": {},
   "source": [
    "We will see a radar chart useful to compare more than one feature for two different months. As seen in the previous notebooks, we consider the top 50 only, being more influenced by the recent releases"
   ]
  },
  {
   "cell_type": "code",
   "execution_count": 2,
   "metadata": {},
   "outputs": [],
   "source": [
    "import os\n",
    "import pandas as pd\n",
    "import seaborn as sns\n",
    "import matplotlib.pyplot as plt\n",
    "import matplotlib.dates as mdates\n",
    "from matplotlib.dates import DateFormatter\n",
    "from IPython.display import display, HTML\n",
    "import plotly.graph_objects as go\n",
    "\n",
    "path = os.getcwd()\n",
    "file_folder = os.path.join(path,'it_features')\n",
    "years = [2017,2018,2019,2020]\n",
    "list_data= []\n",
    "df = pd.DataFrame()\n",
    "for year in years:\n",
    "    number_of_weeks = 0\n",
    "    for csv_file in os.listdir(file_folder):\n",
    "        if str(year) in csv_file[15:]:\n",
    "            short_name = csv_file[15:]\n",
    "            #print(short_name)\n",
    "            csv_path = os.path.join(file_folder,csv_file)\n",
    "            df_temp = pd.read_csv(csv_path)\n",
    "            year = short_name[0:4]\n",
    "            month = short_name[5:7]\n",
    "            day =short_name[8:10]\n",
    "            date = year + '-' + month + '-' + day\n",
    "            #print(date)\n",
    "            \n",
    "            df_temp['date'] = date\n",
    "            df_temp.date = pd.to_datetime(df_temp.date)\n",
    "            df_temp.set_index(df_temp.date, inplace=True)\n",
    "            df_temp.drop(columns=['date'], inplace=True)\n",
    "            \n",
    "            df = pd.concat([df, df_temp])\n",
    "#print(list_data)\n",
    "df.sort_index(inplace = True)"
   ]
  },
  {
   "cell_type": "code",
   "execution_count": 176,
   "metadata": {},
   "outputs": [],
   "source": [
    "df_resampled = df[df['Position']<=50].resample('M').mean()"
   ]
  },
  {
   "cell_type": "code",
   "execution_count": 177,
   "metadata": {},
   "outputs": [],
   "source": [
    "df_relevant = df_resampled[['danceability','energy','acousticness','valence','speechiness']]"
   ]
  },
  {
   "cell_type": "code",
   "execution_count": 183,
   "metadata": {
    "scrolled": false
   },
   "outputs": [
    {
     "data": {
      "application/vnd.plotly.v1+json": {
       "config": {
        "plotlyServerURL": "https://plot.ly"
       },
       "data": [
        {
         "fill": "toself",
         "name": "2017-1",
         "r": [
          0.6410100000000001,
          0.6880649999999998,
          0.20989465000000007,
          0.48892900000000017,
          0.11666000000000003
         ],
         "theta": [
          "danceability",
          "energy",
          "acousticness",
          "valence",
          "speechiness"
         ],
         "type": "scatterpolar",
         "visible": true
        },
        {
         "fill": "toself",
         "name": "2017-1",
         "r": [
          0.6410100000000001,
          0.6880649999999998,
          0.20989465000000007,
          0.48892900000000017,
          0.11666000000000003
         ],
         "theta": [
          "danceability",
          "energy",
          "acousticness",
          "valence",
          "speechiness"
         ],
         "type": "scatterpolar",
         "visible": true
        }
       ],
       "layout": {
        "annotations": [
         {
          "align": "left",
          "font": {
           "color": "blue"
          },
          "showarrow": false,
          "text": "Date 1:",
          "x": 0,
          "y": 1.085,
          "yref": "paper"
         },
         {
          "align": "left",
          "font": {
           "color": "red"
          },
          "showarrow": false,
          "text": "Date 2:",
          "x": 0,
          "y": 0.98,
          "yref": "paper"
         }
        ],
        "polar": {
         "radialaxis": {
          "range": [
           0.1,
           0.75
          ],
          "visible": true
         }
        },
        "showlegend": true,
        "template": {
         "data": {
          "bar": [
           {
            "error_x": {
             "color": "#2a3f5f"
            },
            "error_y": {
             "color": "#2a3f5f"
            },
            "marker": {
             "line": {
              "color": "#E5ECF6",
              "width": 0.5
             }
            },
            "type": "bar"
           }
          ],
          "barpolar": [
           {
            "marker": {
             "line": {
              "color": "#E5ECF6",
              "width": 0.5
             }
            },
            "type": "barpolar"
           }
          ],
          "carpet": [
           {
            "aaxis": {
             "endlinecolor": "#2a3f5f",
             "gridcolor": "white",
             "linecolor": "white",
             "minorgridcolor": "white",
             "startlinecolor": "#2a3f5f"
            },
            "baxis": {
             "endlinecolor": "#2a3f5f",
             "gridcolor": "white",
             "linecolor": "white",
             "minorgridcolor": "white",
             "startlinecolor": "#2a3f5f"
            },
            "type": "carpet"
           }
          ],
          "choropleth": [
           {
            "colorbar": {
             "outlinewidth": 0,
             "ticks": ""
            },
            "type": "choropleth"
           }
          ],
          "contour": [
           {
            "colorbar": {
             "outlinewidth": 0,
             "ticks": ""
            },
            "colorscale": [
             [
              0,
              "#0d0887"
             ],
             [
              0.1111111111111111,
              "#46039f"
             ],
             [
              0.2222222222222222,
              "#7201a8"
             ],
             [
              0.3333333333333333,
              "#9c179e"
             ],
             [
              0.4444444444444444,
              "#bd3786"
             ],
             [
              0.5555555555555556,
              "#d8576b"
             ],
             [
              0.6666666666666666,
              "#ed7953"
             ],
             [
              0.7777777777777778,
              "#fb9f3a"
             ],
             [
              0.8888888888888888,
              "#fdca26"
             ],
             [
              1,
              "#f0f921"
             ]
            ],
            "type": "contour"
           }
          ],
          "contourcarpet": [
           {
            "colorbar": {
             "outlinewidth": 0,
             "ticks": ""
            },
            "type": "contourcarpet"
           }
          ],
          "heatmap": [
           {
            "colorbar": {
             "outlinewidth": 0,
             "ticks": ""
            },
            "colorscale": [
             [
              0,
              "#0d0887"
             ],
             [
              0.1111111111111111,
              "#46039f"
             ],
             [
              0.2222222222222222,
              "#7201a8"
             ],
             [
              0.3333333333333333,
              "#9c179e"
             ],
             [
              0.4444444444444444,
              "#bd3786"
             ],
             [
              0.5555555555555556,
              "#d8576b"
             ],
             [
              0.6666666666666666,
              "#ed7953"
             ],
             [
              0.7777777777777778,
              "#fb9f3a"
             ],
             [
              0.8888888888888888,
              "#fdca26"
             ],
             [
              1,
              "#f0f921"
             ]
            ],
            "type": "heatmap"
           }
          ],
          "heatmapgl": [
           {
            "colorbar": {
             "outlinewidth": 0,
             "ticks": ""
            },
            "colorscale": [
             [
              0,
              "#0d0887"
             ],
             [
              0.1111111111111111,
              "#46039f"
             ],
             [
              0.2222222222222222,
              "#7201a8"
             ],
             [
              0.3333333333333333,
              "#9c179e"
             ],
             [
              0.4444444444444444,
              "#bd3786"
             ],
             [
              0.5555555555555556,
              "#d8576b"
             ],
             [
              0.6666666666666666,
              "#ed7953"
             ],
             [
              0.7777777777777778,
              "#fb9f3a"
             ],
             [
              0.8888888888888888,
              "#fdca26"
             ],
             [
              1,
              "#f0f921"
             ]
            ],
            "type": "heatmapgl"
           }
          ],
          "histogram": [
           {
            "marker": {
             "colorbar": {
              "outlinewidth": 0,
              "ticks": ""
             }
            },
            "type": "histogram"
           }
          ],
          "histogram2d": [
           {
            "colorbar": {
             "outlinewidth": 0,
             "ticks": ""
            },
            "colorscale": [
             [
              0,
              "#0d0887"
             ],
             [
              0.1111111111111111,
              "#46039f"
             ],
             [
              0.2222222222222222,
              "#7201a8"
             ],
             [
              0.3333333333333333,
              "#9c179e"
             ],
             [
              0.4444444444444444,
              "#bd3786"
             ],
             [
              0.5555555555555556,
              "#d8576b"
             ],
             [
              0.6666666666666666,
              "#ed7953"
             ],
             [
              0.7777777777777778,
              "#fb9f3a"
             ],
             [
              0.8888888888888888,
              "#fdca26"
             ],
             [
              1,
              "#f0f921"
             ]
            ],
            "type": "histogram2d"
           }
          ],
          "histogram2dcontour": [
           {
            "colorbar": {
             "outlinewidth": 0,
             "ticks": ""
            },
            "colorscale": [
             [
              0,
              "#0d0887"
             ],
             [
              0.1111111111111111,
              "#46039f"
             ],
             [
              0.2222222222222222,
              "#7201a8"
             ],
             [
              0.3333333333333333,
              "#9c179e"
             ],
             [
              0.4444444444444444,
              "#bd3786"
             ],
             [
              0.5555555555555556,
              "#d8576b"
             ],
             [
              0.6666666666666666,
              "#ed7953"
             ],
             [
              0.7777777777777778,
              "#fb9f3a"
             ],
             [
              0.8888888888888888,
              "#fdca26"
             ],
             [
              1,
              "#f0f921"
             ]
            ],
            "type": "histogram2dcontour"
           }
          ],
          "mesh3d": [
           {
            "colorbar": {
             "outlinewidth": 0,
             "ticks": ""
            },
            "type": "mesh3d"
           }
          ],
          "parcoords": [
           {
            "line": {
             "colorbar": {
              "outlinewidth": 0,
              "ticks": ""
             }
            },
            "type": "parcoords"
           }
          ],
          "pie": [
           {
            "automargin": true,
            "type": "pie"
           }
          ],
          "scatter": [
           {
            "marker": {
             "colorbar": {
              "outlinewidth": 0,
              "ticks": ""
             }
            },
            "type": "scatter"
           }
          ],
          "scatter3d": [
           {
            "line": {
             "colorbar": {
              "outlinewidth": 0,
              "ticks": ""
             }
            },
            "marker": {
             "colorbar": {
              "outlinewidth": 0,
              "ticks": ""
             }
            },
            "type": "scatter3d"
           }
          ],
          "scattercarpet": [
           {
            "marker": {
             "colorbar": {
              "outlinewidth": 0,
              "ticks": ""
             }
            },
            "type": "scattercarpet"
           }
          ],
          "scattergeo": [
           {
            "marker": {
             "colorbar": {
              "outlinewidth": 0,
              "ticks": ""
             }
            },
            "type": "scattergeo"
           }
          ],
          "scattergl": [
           {
            "marker": {
             "colorbar": {
              "outlinewidth": 0,
              "ticks": ""
             }
            },
            "type": "scattergl"
           }
          ],
          "scattermapbox": [
           {
            "marker": {
             "colorbar": {
              "outlinewidth": 0,
              "ticks": ""
             }
            },
            "type": "scattermapbox"
           }
          ],
          "scatterpolar": [
           {
            "marker": {
             "colorbar": {
              "outlinewidth": 0,
              "ticks": ""
             }
            },
            "type": "scatterpolar"
           }
          ],
          "scatterpolargl": [
           {
            "marker": {
             "colorbar": {
              "outlinewidth": 0,
              "ticks": ""
             }
            },
            "type": "scatterpolargl"
           }
          ],
          "scatterternary": [
           {
            "marker": {
             "colorbar": {
              "outlinewidth": 0,
              "ticks": ""
             }
            },
            "type": "scatterternary"
           }
          ],
          "surface": [
           {
            "colorbar": {
             "outlinewidth": 0,
             "ticks": ""
            },
            "colorscale": [
             [
              0,
              "#0d0887"
             ],
             [
              0.1111111111111111,
              "#46039f"
             ],
             [
              0.2222222222222222,
              "#7201a8"
             ],
             [
              0.3333333333333333,
              "#9c179e"
             ],
             [
              0.4444444444444444,
              "#bd3786"
             ],
             [
              0.5555555555555556,
              "#d8576b"
             ],
             [
              0.6666666666666666,
              "#ed7953"
             ],
             [
              0.7777777777777778,
              "#fb9f3a"
             ],
             [
              0.8888888888888888,
              "#fdca26"
             ],
             [
              1,
              "#f0f921"
             ]
            ],
            "type": "surface"
           }
          ],
          "table": [
           {
            "cells": {
             "fill": {
              "color": "#EBF0F8"
             },
             "line": {
              "color": "white"
             }
            },
            "header": {
             "fill": {
              "color": "#C8D4E3"
             },
             "line": {
              "color": "white"
             }
            },
            "type": "table"
           }
          ]
         },
         "layout": {
          "annotationdefaults": {
           "arrowcolor": "#2a3f5f",
           "arrowhead": 0,
           "arrowwidth": 1
          },
          "coloraxis": {
           "colorbar": {
            "outlinewidth": 0,
            "ticks": ""
           }
          },
          "colorscale": {
           "diverging": [
            [
             0,
             "#8e0152"
            ],
            [
             0.1,
             "#c51b7d"
            ],
            [
             0.2,
             "#de77ae"
            ],
            [
             0.3,
             "#f1b6da"
            ],
            [
             0.4,
             "#fde0ef"
            ],
            [
             0.5,
             "#f7f7f7"
            ],
            [
             0.6,
             "#e6f5d0"
            ],
            [
             0.7,
             "#b8e186"
            ],
            [
             0.8,
             "#7fbc41"
            ],
            [
             0.9,
             "#4d9221"
            ],
            [
             1,
             "#276419"
            ]
           ],
           "sequential": [
            [
             0,
             "#0d0887"
            ],
            [
             0.1111111111111111,
             "#46039f"
            ],
            [
             0.2222222222222222,
             "#7201a8"
            ],
            [
             0.3333333333333333,
             "#9c179e"
            ],
            [
             0.4444444444444444,
             "#bd3786"
            ],
            [
             0.5555555555555556,
             "#d8576b"
            ],
            [
             0.6666666666666666,
             "#ed7953"
            ],
            [
             0.7777777777777778,
             "#fb9f3a"
            ],
            [
             0.8888888888888888,
             "#fdca26"
            ],
            [
             1,
             "#f0f921"
            ]
           ],
           "sequentialminus": [
            [
             0,
             "#0d0887"
            ],
            [
             0.1111111111111111,
             "#46039f"
            ],
            [
             0.2222222222222222,
             "#7201a8"
            ],
            [
             0.3333333333333333,
             "#9c179e"
            ],
            [
             0.4444444444444444,
             "#bd3786"
            ],
            [
             0.5555555555555556,
             "#d8576b"
            ],
            [
             0.6666666666666666,
             "#ed7953"
            ],
            [
             0.7777777777777778,
             "#fb9f3a"
            ],
            [
             0.8888888888888888,
             "#fdca26"
            ],
            [
             1,
             "#f0f921"
            ]
           ]
          },
          "colorway": [
           "#636efa",
           "#EF553B",
           "#00cc96",
           "#ab63fa",
           "#FFA15A",
           "#19d3f3",
           "#FF6692",
           "#B6E880",
           "#FF97FF",
           "#FECB52"
          ],
          "font": {
           "color": "#2a3f5f"
          },
          "geo": {
           "bgcolor": "white",
           "lakecolor": "white",
           "landcolor": "#E5ECF6",
           "showlakes": true,
           "showland": true,
           "subunitcolor": "white"
          },
          "hoverlabel": {
           "align": "left"
          },
          "hovermode": "closest",
          "mapbox": {
           "style": "light"
          },
          "paper_bgcolor": "white",
          "plot_bgcolor": "#E5ECF6",
          "polar": {
           "angularaxis": {
            "gridcolor": "white",
            "linecolor": "white",
            "ticks": ""
           },
           "bgcolor": "#E5ECF6",
           "radialaxis": {
            "gridcolor": "white",
            "linecolor": "white",
            "ticks": ""
           }
          },
          "scene": {
           "xaxis": {
            "backgroundcolor": "#E5ECF6",
            "gridcolor": "white",
            "gridwidth": 2,
            "linecolor": "white",
            "showbackground": true,
            "ticks": "",
            "zerolinecolor": "white"
           },
           "yaxis": {
            "backgroundcolor": "#E5ECF6",
            "gridcolor": "white",
            "gridwidth": 2,
            "linecolor": "white",
            "showbackground": true,
            "ticks": "",
            "zerolinecolor": "white"
           },
           "zaxis": {
            "backgroundcolor": "#E5ECF6",
            "gridcolor": "white",
            "gridwidth": 2,
            "linecolor": "white",
            "showbackground": true,
            "ticks": "",
            "zerolinecolor": "white"
           }
          },
          "shapedefaults": {
           "line": {
            "color": "#2a3f5f"
           }
          },
          "ternary": {
           "aaxis": {
            "gridcolor": "white",
            "linecolor": "white",
            "ticks": ""
           },
           "baxis": {
            "gridcolor": "white",
            "linecolor": "white",
            "ticks": ""
           },
           "bgcolor": "#E5ECF6",
           "caxis": {
            "gridcolor": "white",
            "linecolor": "white",
            "ticks": ""
           }
          },
          "title": {
           "x": 0.05
          },
          "xaxis": {
           "automargin": true,
           "gridcolor": "white",
           "linecolor": "white",
           "ticks": "",
           "title": {
            "standoff": 15
           },
           "zerolinecolor": "white",
           "zerolinewidth": 2
          },
          "yaxis": {
           "automargin": true,
           "gridcolor": "white",
           "linecolor": "white",
           "ticks": "",
           "title": {
            "standoff": 15
           },
           "zerolinecolor": "white",
           "zerolinewidth": 2
          }
         }
        },
        "updatemenus": [
         {
          "buttons": [
           {
            "args": [
             {
              "name": "2017-1",
              "r": [
               [
                0.6410100000000001,
                0.6880649999999998,
                0.20989465000000007,
                0.48892900000000017,
                0.11666000000000003
               ]
              ],
              "type": "scatterpolar"
             },
             [
              0
             ]
            ],
            "label": "2017-1",
            "method": "restyle"
           },
           {
            "args": [
             {
              "name": "2017-2",
              "r": [
               [
                0.6275950000000001,
                0.6896900000000001,
                0.2021247,
                0.469839,
                0.09830199999999996
               ]
              ],
              "type": "scatterpolar"
             },
             [
              0
             ]
            ],
            "label": "2017-2",
            "method": "restyle"
           },
           {
            "args": [
             {
              "name": "2017-3",
              "r": [
               [
                0.6601199999999998,
                0.6717359999999999,
                0.2081671600000001,
                0.5178720000000003,
                0.08735400000000001
               ]
              ],
              "type": "scatterpolar"
             },
             [
              0
             ]
            ],
            "label": "2017-3",
            "method": "restyle"
           },
           {
            "args": [
             {
              "name": "2017-4",
              "r": [
               [
                0.6950900000000001,
                0.6747699999999999,
                0.17641468000000005,
                0.528199,
                0.09674500000000005
               ]
              ],
              "type": "scatterpolar"
             },
             [
              0
             ]
            ],
            "label": "2017-4",
            "method": "restyle"
           },
           {
            "args": [
             {
              "name": "2017-5",
              "r": [
               [
                0.7056150000000001,
                0.693125,
                0.14982223999999994,
                0.5631840000000001,
                0.09249049999999999
               ]
              ],
              "type": "scatterpolar"
             },
             [
              0
             ]
            ],
            "label": "2017-5",
            "method": "restyle"
           },
           {
            "args": [
             {
              "name": "2017-6",
              "r": [
               [
                0.7056520000000001,
                0.7119200000000002,
                0.16940708000000002,
                0.5797392000000001,
                0.09102840000000001
               ]
              ],
              "type": "scatterpolar"
             },
             [
              0
             ]
            ],
            "label": "2017-6",
            "method": "restyle"
           },
           {
            "args": [
             {
              "name": "2017-7",
              "r": [
               [
                0.7088450000000002,
                0.7149000000000002,
                0.1368790499999999,
                0.6010949999999999,
                0.0871555
               ]
              ],
              "type": "scatterpolar"
             },
             [
              0
             ]
            ],
            "label": "2017-7",
            "method": "restyle"
           },
           {
            "args": [
             {
              "name": "2017-8",
              "r": [
               [
                0.71127,
                0.7347750000000004,
                0.12675934999999988,
                0.6241650000000002,
                0.08250800000000005
               ]
              ],
              "type": "scatterpolar"
             },
             [
              0
             ]
            ],
            "label": "2017-8",
            "method": "restyle"
           },
           {
            "args": [
             {
              "name": "2017-9",
              "r": [
               [
                0.7072319999999999,
                0.7108720000000003,
                0.13973819999999995,
                0.5747924,
                0.08788400000000005
               ]
              ],
              "type": "scatterpolar"
             },
             [
              0
             ]
            ],
            "label": "2017-9",
            "method": "restyle"
           },
           {
            "args": [
             {
              "name": "2017-10",
              "r": [
               [
                0.7021900000000001,
                0.6677150000000002,
                0.17625485000000005,
                0.5177299999999999,
                0.08434849999999995
               ]
              ],
              "type": "scatterpolar"
             },
             [
              0
             ]
            ],
            "label": "2017-10",
            "method": "restyle"
           },
           {
            "args": [
             {
              "name": "2017-11",
              "r": [
               [
                0.6886100000000003,
                0.6647199999999996,
                0.17360185000000009,
                0.47303299999999987,
                0.08539849999999996
               ]
              ],
              "type": "scatterpolar"
             },
             [
              0
             ]
            ],
            "label": "2017-11",
            "method": "restyle"
           },
           {
            "args": [
             {
              "name": "2017-12",
              "r": [
               [
                0.6492720000000003,
                0.6690800000000003,
                0.19112304,
                0.4614539999999995,
                0.09065920000000002
               ]
              ],
              "type": "scatterpolar"
             },
             [
              0
             ]
            ],
            "label": "2017-12",
            "method": "restyle"
           },
           {
            "args": [
             {
              "name": "2018-1",
              "r": [
               [
                0.6653100000000003,
                0.6561449999999998,
                0.18183695,
                0.4493434999999999,
                0.10499500000000009
               ]
              ],
              "type": "scatterpolar"
             },
             [
              0
             ]
            ],
            "label": "2018-1",
            "method": "restyle"
           },
           {
            "args": [
             {
              "name": "2018-2",
              "r": [
               [
                0.6816200000000004,
                0.6722599999999994,
                0.18233454999999998,
                0.4537385,
                0.10787400000000001
               ]
              ],
              "type": "scatterpolar"
             },
             [
              0
             ]
            ],
            "label": "2018-2",
            "method": "restyle"
           },
           {
            "args": [
             {
              "name": "2018-3",
              "r": [
               [
                0.6988080000000003,
                0.6798559999999999,
                0.18025451999999992,
                0.47127520000000034,
                0.11671080000000006
               ]
              ],
              "type": "scatterpolar"
             },
             [
              0
             ]
            ],
            "label": "2018-3",
            "method": "restyle"
           },
           {
            "args": [
             {
              "name": "2018-4",
              "r": [
               [
                0.6970399999999999,
                0.6927899999999996,
                0.17284355000000004,
                0.4884659999999998,
                0.1338575
               ]
              ],
              "type": "scatterpolar"
             },
             [
              0
             ]
            ],
            "label": "2018-4",
            "method": "restyle"
           },
           {
            "args": [
             {
              "name": "2018-5",
              "r": [
               [
                0.7170899999999999,
                0.6889699999999996,
                0.16971099999999992,
                0.4953939999999997,
                0.12052999999999997
               ]
              ],
              "type": "scatterpolar"
             },
             [
              0
             ]
            ],
            "label": "2018-5",
            "method": "restyle"
           },
           {
            "args": [
             {
              "name": "2018-6",
              "r": [
               [
                0.7255919999999997,
                0.6929119999999995,
                0.17574360000000003,
                0.5244063999999997,
                0.10861959999999996
               ]
              ],
              "type": "scatterpolar"
             },
             [
              0
             ]
            ],
            "label": "2018-6",
            "method": "restyle"
           },
           {
            "args": [
             {
              "name": "2018-7",
              "r": [
               [
                0.73271,
                0.6931049999999999,
                0.17365664999999994,
                0.5618599999999992,
                0.09793399999999997
               ]
              ],
              "type": "scatterpolar"
             },
             [
              0
             ]
            ],
            "label": "2018-7",
            "method": "restyle"
           },
           {
            "args": [
             {
              "name": "2018-8",
              "r": [
               [
                0.7299599999999998,
                0.6998679999999999,
                0.15292311999999997,
                0.5613655999999998,
                0.11137999999999994
               ]
              ],
              "type": "scatterpolar"
             },
             [
              0
             ]
            ],
            "label": "2018-8",
            "method": "restyle"
           },
           {
            "args": [
             {
              "name": "2018-9",
              "r": [
               [
                0.748785,
                0.6887850000000003,
                0.17759784999999995,
                0.555345,
                0.14227549999999997
               ]
              ],
              "type": "scatterpolar"
             },
             [
              0
             ]
            ],
            "label": "2018-9",
            "method": "restyle"
           },
           {
            "args": [
             {
              "name": "2018-10",
              "r": [
               [
                0.7203049999999999,
                0.6943750000000003,
                0.20102455000000002,
                0.5125550000000001,
                0.13152250000000007
               ]
              ],
              "type": "scatterpolar"
             },
             [
              0
             ]
            ],
            "label": "2018-10",
            "method": "restyle"
           },
           {
            "args": [
             {
              "name": "2018-11",
              "r": [
               [
                0.6994560000000001,
                0.6882800000000003,
                0.21360150800000016,
                0.48329999999999973,
                0.13039719999999994
               ]
              ],
              "type": "scatterpolar"
             },
             [
              0
             ]
            ],
            "label": "2018-11",
            "method": "restyle"
           },
           {
            "args": [
             {
              "name": "2018-12",
              "r": [
               [
                0.6789049999999996,
                0.6794200000000004,
                0.21727860000000013,
                0.47329999999999983,
                0.13538450000000007
               ]
              ],
              "type": "scatterpolar"
             },
             [
              0
             ]
            ],
            "label": "2018-12",
            "method": "restyle"
           },
           {
            "args": [
             {
              "name": "2019-1",
              "r": [
               [
                0.6820699999999998,
                0.6736250000000001,
                0.22084833500000012,
                0.4785300000000002,
                0.12712000000000007
               ]
              ],
              "type": "scatterpolar"
             },
             [
              0
             ]
            ],
            "label": "2019-1",
            "method": "restyle"
           },
           {
            "args": [
             {
              "name": "2019-2",
              "r": [
               [
                0.6954049999999996,
                0.6600849999999998,
                0.23817029999999995,
                0.4763050000000002,
                0.14178850000000012
               ]
              ],
              "type": "scatterpolar"
             },
             [
              0
             ]
            ],
            "label": "2019-2",
            "method": "restyle"
           },
           {
            "args": [
             {
              "name": "2019-3",
              "r": [
               [
                0.6967799999999992,
                0.6672439999999996,
                0.22111991999999997,
                0.49497000000000013,
                0.1374160000000002
               ]
              ],
              "type": "scatterpolar"
             },
             [
              0
             ]
            ],
            "label": "2019-3",
            "method": "restyle"
           },
           {
            "args": [
             {
              "name": "2019-4",
              "r": [
               [
                0.6856499999999999,
                0.6560699999999998,
                0.2377895,
                0.4833304999999995,
                0.11728850000000009
               ]
              ],
              "type": "scatterpolar"
             },
             [
              0
             ]
            ],
            "label": "2019-4",
            "method": "restyle"
           },
           {
            "args": [
             {
              "name": "2019-5",
              "r": [
               [
                0.6908160000000001,
                0.6653319999999998,
                0.2072772000000001,
                0.5108383999999997,
                0.12177120000000005
               ]
              ],
              "type": "scatterpolar"
             },
             [
              0
             ]
            ],
            "label": "2019-5",
            "method": "restyle"
           },
           {
            "args": [
             {
              "name": "2019-6",
              "r": [
               [
                0.7326950000000002,
                0.6805499999999999,
                0.18120150000000007,
                0.5705219999999998,
                0.11753050000000004
               ]
              ],
              "type": "scatterpolar"
             },
             [
              0
             ]
            ],
            "label": "2019-6",
            "method": "restyle"
           },
           {
            "args": [
             {
              "name": "2019-7",
              "r": [
               [
                0.7316999999999999,
                0.6956699999999997,
                0.1660840500000001,
                0.5794599999999996,
                0.1518795
               ]
              ],
              "type": "scatterpolar"
             },
             [
              0
             ]
            ],
            "label": "2019-7",
            "method": "restyle"
           },
           {
            "args": [
             {
              "name": "2019-8",
              "r": [
               [
                0.72972,
                0.6802599999999998,
                0.1645625600000001,
                0.5750679999999996,
                0.13513000000000003
               ]
              ],
              "type": "scatterpolar"
             },
             [
              0
             ]
            ],
            "label": "2019-8",
            "method": "restyle"
           },
           {
            "args": [
             {
              "name": "2019-9",
              "r": [
               [
                0.7404500000000005,
                0.6589250000000003,
                0.18788799999999997,
                0.5416729999999995,
                0.15741650000000007
               ]
              ],
              "type": "scatterpolar"
             },
             [
              0
             ]
            ],
            "label": "2019-9",
            "method": "restyle"
           },
           {
            "args": [
             {
              "name": "2019-10",
              "r": [
               [
                0.7451049999999999,
                0.6535300000000004,
                0.19034655,
                0.5237604999999995,
                0.1487535
               ]
              ],
              "type": "scatterpolar"
             },
             [
              0
             ]
            ],
            "label": "2019-10",
            "method": "restyle"
           },
           {
            "args": [
             {
              "name": "2019-11",
              "r": [
               [
                0.7146599999999999,
                0.673908,
                0.20358012000000011,
                0.49910719999999953,
                0.13203080000000003
               ]
              ],
              "type": "scatterpolar"
             },
             [
              0
             ]
            ],
            "label": "2019-11",
            "method": "restyle"
           },
           {
            "args": [
             {
              "name": "2019-12",
              "r": [
               [
                0.6896099999999997,
                0.6558049999999999,
                0.18699960000000002,
                0.49253899999999995,
                0.12881199999999995
               ]
              ],
              "type": "scatterpolar"
             },
             [
              0
             ]
            ],
            "label": "2019-12",
            "method": "restyle"
           },
           {
            "args": [
             {
              "name": "2020-1",
              "r": [
               [
                0.6920799999999998,
                0.6532680000000001,
                0.19349012000000004,
                0.47819600000000007,
                0.13361599999999996
               ]
              ],
              "type": "scatterpolar"
             },
             [
              0
             ]
            ],
            "label": "2020-1",
            "method": "restyle"
           },
           {
            "args": [
             {
              "name": "2020-2",
              "r": [
               [
                0.6663049999999999,
                0.6753250000000002,
                0.16885279999999997,
                0.47903399999999974,
                0.147264
               ]
              ],
              "type": "scatterpolar"
             },
             [
              0
             ]
            ],
            "label": "2020-2",
            "method": "restyle"
           },
           {
            "args": [
             {
              "name": "2020-3",
              "r": [
               [
                0.6769299999999997,
                0.6753049999999999,
                0.16479674999999994,
                0.46750899999999995,
                0.13391099999999997
               ]
              ],
              "type": "scatterpolar"
             },
             [
              0
             ]
            ],
            "label": "2020-3",
            "method": "restyle"
           },
           {
            "args": [
             {
              "name": "2020-4",
              "r": [
               [
                0.6870599999999996,
                0.6711850000000001,
                0.1839328000000001,
                0.4826790000000003,
                0.12621200000000002
               ]
              ],
              "type": "scatterpolar"
             },
             [
              0
             ]
            ],
            "label": "2020-4",
            "method": "restyle"
           },
           {
            "args": [
             {
              "name": "2020-5",
              "r": [
               [
                0.7243239999999996,
                0.6716360000000002,
                0.18073680000000023,
                0.4840256000000001,
                0.13527720000000007
               ]
              ],
              "type": "scatterpolar"
             },
             [
              0
             ]
            ],
            "label": "2020-5",
            "method": "restyle"
           },
           {
            "args": [
             {
              "name": "2020-6",
              "r": [
               [
                0.7241299999999998,
                0.6782699999999998,
                0.17383385000000012,
                0.5021700000000002,
                0.15569550000000004
               ]
              ],
              "type": "scatterpolar"
             },
             [
              0
             ]
            ],
            "label": "2020-6",
            "method": "restyle"
           },
           {
            "args": [
             {
              "name": "2020-7",
              "r": [
               [
                0.7323759999999991,
                0.7035719999999999,
                0.1647288240000002,
                0.5648359999999999,
                0.11986440000000007
               ]
              ],
              "type": "scatterpolar"
             },
             [
              0
             ]
            ],
            "label": "2020-7",
            "method": "restyle"
           }
          ],
          "direction": "down",
          "showactive": true,
          "x": 0.1,
          "xanchor": "left",
          "y": 1.1
         },
         {
          "buttons": [
           {
            "args": [
             {
              "name": "2017-1",
              "r": [
               [
                0.6410100000000001,
                0.6880649999999998,
                0.20989465000000007,
                0.48892900000000017,
                0.11666000000000003
               ]
              ],
              "type": "scatterpolar"
             },
             [
              1
             ]
            ],
            "label": "2017-1",
            "method": "restyle"
           },
           {
            "args": [
             {
              "name": "2017-2",
              "r": [
               [
                0.6275950000000001,
                0.6896900000000001,
                0.2021247,
                0.469839,
                0.09830199999999996
               ]
              ],
              "type": "scatterpolar"
             },
             [
              1
             ]
            ],
            "label": "2017-2",
            "method": "restyle"
           },
           {
            "args": [
             {
              "name": "2017-3",
              "r": [
               [
                0.6601199999999998,
                0.6717359999999999,
                0.2081671600000001,
                0.5178720000000003,
                0.08735400000000001
               ]
              ],
              "type": "scatterpolar"
             },
             [
              1
             ]
            ],
            "label": "2017-3",
            "method": "restyle"
           },
           {
            "args": [
             {
              "name": "2017-4",
              "r": [
               [
                0.6950900000000001,
                0.6747699999999999,
                0.17641468000000005,
                0.528199,
                0.09674500000000005
               ]
              ],
              "type": "scatterpolar"
             },
             [
              1
             ]
            ],
            "label": "2017-4",
            "method": "restyle"
           },
           {
            "args": [
             {
              "name": "2017-5",
              "r": [
               [
                0.7056150000000001,
                0.693125,
                0.14982223999999994,
                0.5631840000000001,
                0.09249049999999999
               ]
              ],
              "type": "scatterpolar"
             },
             [
              1
             ]
            ],
            "label": "2017-5",
            "method": "restyle"
           },
           {
            "args": [
             {
              "name": "2017-6",
              "r": [
               [
                0.7056520000000001,
                0.7119200000000002,
                0.16940708000000002,
                0.5797392000000001,
                0.09102840000000001
               ]
              ],
              "type": "scatterpolar"
             },
             [
              1
             ]
            ],
            "label": "2017-6",
            "method": "restyle"
           },
           {
            "args": [
             {
              "name": "2017-7",
              "r": [
               [
                0.7088450000000002,
                0.7149000000000002,
                0.1368790499999999,
                0.6010949999999999,
                0.0871555
               ]
              ],
              "type": "scatterpolar"
             },
             [
              1
             ]
            ],
            "label": "2017-7",
            "method": "restyle"
           },
           {
            "args": [
             {
              "name": "2017-8",
              "r": [
               [
                0.71127,
                0.7347750000000004,
                0.12675934999999988,
                0.6241650000000002,
                0.08250800000000005
               ]
              ],
              "type": "scatterpolar"
             },
             [
              1
             ]
            ],
            "label": "2017-8",
            "method": "restyle"
           },
           {
            "args": [
             {
              "name": "2017-9",
              "r": [
               [
                0.7072319999999999,
                0.7108720000000003,
                0.13973819999999995,
                0.5747924,
                0.08788400000000005
               ]
              ],
              "type": "scatterpolar"
             },
             [
              1
             ]
            ],
            "label": "2017-9",
            "method": "restyle"
           },
           {
            "args": [
             {
              "name": "2017-10",
              "r": [
               [
                0.7021900000000001,
                0.6677150000000002,
                0.17625485000000005,
                0.5177299999999999,
                0.08434849999999995
               ]
              ],
              "type": "scatterpolar"
             },
             [
              1
             ]
            ],
            "label": "2017-10",
            "method": "restyle"
           },
           {
            "args": [
             {
              "name": "2017-11",
              "r": [
               [
                0.6886100000000003,
                0.6647199999999996,
                0.17360185000000009,
                0.47303299999999987,
                0.08539849999999996
               ]
              ],
              "type": "scatterpolar"
             },
             [
              1
             ]
            ],
            "label": "2017-11",
            "method": "restyle"
           },
           {
            "args": [
             {
              "name": "2017-12",
              "r": [
               [
                0.6492720000000003,
                0.6690800000000003,
                0.19112304,
                0.4614539999999995,
                0.09065920000000002
               ]
              ],
              "type": "scatterpolar"
             },
             [
              1
             ]
            ],
            "label": "2017-12",
            "method": "restyle"
           },
           {
            "args": [
             {
              "name": "2018-1",
              "r": [
               [
                0.6653100000000003,
                0.6561449999999998,
                0.18183695,
                0.4493434999999999,
                0.10499500000000009
               ]
              ],
              "type": "scatterpolar"
             },
             [
              1
             ]
            ],
            "label": "2018-1",
            "method": "restyle"
           },
           {
            "args": [
             {
              "name": "2018-2",
              "r": [
               [
                0.6816200000000004,
                0.6722599999999994,
                0.18233454999999998,
                0.4537385,
                0.10787400000000001
               ]
              ],
              "type": "scatterpolar"
             },
             [
              1
             ]
            ],
            "label": "2018-2",
            "method": "restyle"
           },
           {
            "args": [
             {
              "name": "2018-3",
              "r": [
               [
                0.6988080000000003,
                0.6798559999999999,
                0.18025451999999992,
                0.47127520000000034,
                0.11671080000000006
               ]
              ],
              "type": "scatterpolar"
             },
             [
              1
             ]
            ],
            "label": "2018-3",
            "method": "restyle"
           },
           {
            "args": [
             {
              "name": "2018-4",
              "r": [
               [
                0.6970399999999999,
                0.6927899999999996,
                0.17284355000000004,
                0.4884659999999998,
                0.1338575
               ]
              ],
              "type": "scatterpolar"
             },
             [
              1
             ]
            ],
            "label": "2018-4",
            "method": "restyle"
           },
           {
            "args": [
             {
              "name": "2018-5",
              "r": [
               [
                0.7170899999999999,
                0.6889699999999996,
                0.16971099999999992,
                0.4953939999999997,
                0.12052999999999997
               ]
              ],
              "type": "scatterpolar"
             },
             [
              1
             ]
            ],
            "label": "2018-5",
            "method": "restyle"
           },
           {
            "args": [
             {
              "name": "2018-6",
              "r": [
               [
                0.7255919999999997,
                0.6929119999999995,
                0.17574360000000003,
                0.5244063999999997,
                0.10861959999999996
               ]
              ],
              "type": "scatterpolar"
             },
             [
              1
             ]
            ],
            "label": "2018-6",
            "method": "restyle"
           },
           {
            "args": [
             {
              "name": "2018-7",
              "r": [
               [
                0.73271,
                0.6931049999999999,
                0.17365664999999994,
                0.5618599999999992,
                0.09793399999999997
               ]
              ],
              "type": "scatterpolar"
             },
             [
              1
             ]
            ],
            "label": "2018-7",
            "method": "restyle"
           },
           {
            "args": [
             {
              "name": "2018-8",
              "r": [
               [
                0.7299599999999998,
                0.6998679999999999,
                0.15292311999999997,
                0.5613655999999998,
                0.11137999999999994
               ]
              ],
              "type": "scatterpolar"
             },
             [
              1
             ]
            ],
            "label": "2018-8",
            "method": "restyle"
           },
           {
            "args": [
             {
              "name": "2018-9",
              "r": [
               [
                0.748785,
                0.6887850000000003,
                0.17759784999999995,
                0.555345,
                0.14227549999999997
               ]
              ],
              "type": "scatterpolar"
             },
             [
              1
             ]
            ],
            "label": "2018-9",
            "method": "restyle"
           },
           {
            "args": [
             {
              "name": "2018-10",
              "r": [
               [
                0.7203049999999999,
                0.6943750000000003,
                0.20102455000000002,
                0.5125550000000001,
                0.13152250000000007
               ]
              ],
              "type": "scatterpolar"
             },
             [
              1
             ]
            ],
            "label": "2018-10",
            "method": "restyle"
           },
           {
            "args": [
             {
              "name": "2018-11",
              "r": [
               [
                0.6994560000000001,
                0.6882800000000003,
                0.21360150800000016,
                0.48329999999999973,
                0.13039719999999994
               ]
              ],
              "type": "scatterpolar"
             },
             [
              1
             ]
            ],
            "label": "2018-11",
            "method": "restyle"
           },
           {
            "args": [
             {
              "name": "2018-12",
              "r": [
               [
                0.6789049999999996,
                0.6794200000000004,
                0.21727860000000013,
                0.47329999999999983,
                0.13538450000000007
               ]
              ],
              "type": "scatterpolar"
             },
             [
              1
             ]
            ],
            "label": "2018-12",
            "method": "restyle"
           },
           {
            "args": [
             {
              "name": "2019-1",
              "r": [
               [
                0.6820699999999998,
                0.6736250000000001,
                0.22084833500000012,
                0.4785300000000002,
                0.12712000000000007
               ]
              ],
              "type": "scatterpolar"
             },
             [
              1
             ]
            ],
            "label": "2019-1",
            "method": "restyle"
           },
           {
            "args": [
             {
              "name": "2019-2",
              "r": [
               [
                0.6954049999999996,
                0.6600849999999998,
                0.23817029999999995,
                0.4763050000000002,
                0.14178850000000012
               ]
              ],
              "type": "scatterpolar"
             },
             [
              1
             ]
            ],
            "label": "2019-2",
            "method": "restyle"
           },
           {
            "args": [
             {
              "name": "2019-3",
              "r": [
               [
                0.6967799999999992,
                0.6672439999999996,
                0.22111991999999997,
                0.49497000000000013,
                0.1374160000000002
               ]
              ],
              "type": "scatterpolar"
             },
             [
              1
             ]
            ],
            "label": "2019-3",
            "method": "restyle"
           },
           {
            "args": [
             {
              "name": "2019-4",
              "r": [
               [
                0.6856499999999999,
                0.6560699999999998,
                0.2377895,
                0.4833304999999995,
                0.11728850000000009
               ]
              ],
              "type": "scatterpolar"
             },
             [
              1
             ]
            ],
            "label": "2019-4",
            "method": "restyle"
           },
           {
            "args": [
             {
              "name": "2019-5",
              "r": [
               [
                0.6908160000000001,
                0.6653319999999998,
                0.2072772000000001,
                0.5108383999999997,
                0.12177120000000005
               ]
              ],
              "type": "scatterpolar"
             },
             [
              1
             ]
            ],
            "label": "2019-5",
            "method": "restyle"
           },
           {
            "args": [
             {
              "name": "2019-6",
              "r": [
               [
                0.7326950000000002,
                0.6805499999999999,
                0.18120150000000007,
                0.5705219999999998,
                0.11753050000000004
               ]
              ],
              "type": "scatterpolar"
             },
             [
              1
             ]
            ],
            "label": "2019-6",
            "method": "restyle"
           },
           {
            "args": [
             {
              "name": "2019-7",
              "r": [
               [
                0.7316999999999999,
                0.6956699999999997,
                0.1660840500000001,
                0.5794599999999996,
                0.1518795
               ]
              ],
              "type": "scatterpolar"
             },
             [
              1
             ]
            ],
            "label": "2019-7",
            "method": "restyle"
           },
           {
            "args": [
             {
              "name": "2019-8",
              "r": [
               [
                0.72972,
                0.6802599999999998,
                0.1645625600000001,
                0.5750679999999996,
                0.13513000000000003
               ]
              ],
              "type": "scatterpolar"
             },
             [
              1
             ]
            ],
            "label": "2019-8",
            "method": "restyle"
           },
           {
            "args": [
             {
              "name": "2019-9",
              "r": [
               [
                0.7404500000000005,
                0.6589250000000003,
                0.18788799999999997,
                0.5416729999999995,
                0.15741650000000007
               ]
              ],
              "type": "scatterpolar"
             },
             [
              1
             ]
            ],
            "label": "2019-9",
            "method": "restyle"
           },
           {
            "args": [
             {
              "name": "2019-10",
              "r": [
               [
                0.7451049999999999,
                0.6535300000000004,
                0.19034655,
                0.5237604999999995,
                0.1487535
               ]
              ],
              "type": "scatterpolar"
             },
             [
              1
             ]
            ],
            "label": "2019-10",
            "method": "restyle"
           },
           {
            "args": [
             {
              "name": "2019-11",
              "r": [
               [
                0.7146599999999999,
                0.673908,
                0.20358012000000011,
                0.49910719999999953,
                0.13203080000000003
               ]
              ],
              "type": "scatterpolar"
             },
             [
              1
             ]
            ],
            "label": "2019-11",
            "method": "restyle"
           },
           {
            "args": [
             {
              "name": "2019-12",
              "r": [
               [
                0.6896099999999997,
                0.6558049999999999,
                0.18699960000000002,
                0.49253899999999995,
                0.12881199999999995
               ]
              ],
              "type": "scatterpolar"
             },
             [
              1
             ]
            ],
            "label": "2019-12",
            "method": "restyle"
           },
           {
            "args": [
             {
              "name": "2020-1",
              "r": [
               [
                0.6920799999999998,
                0.6532680000000001,
                0.19349012000000004,
                0.47819600000000007,
                0.13361599999999996
               ]
              ],
              "type": "scatterpolar"
             },
             [
              1
             ]
            ],
            "label": "2020-1",
            "method": "restyle"
           },
           {
            "args": [
             {
              "name": "2020-2",
              "r": [
               [
                0.6663049999999999,
                0.6753250000000002,
                0.16885279999999997,
                0.47903399999999974,
                0.147264
               ]
              ],
              "type": "scatterpolar"
             },
             [
              1
             ]
            ],
            "label": "2020-2",
            "method": "restyle"
           },
           {
            "args": [
             {
              "name": "2020-3",
              "r": [
               [
                0.6769299999999997,
                0.6753049999999999,
                0.16479674999999994,
                0.46750899999999995,
                0.13391099999999997
               ]
              ],
              "type": "scatterpolar"
             },
             [
              1
             ]
            ],
            "label": "2020-3",
            "method": "restyle"
           },
           {
            "args": [
             {
              "name": "2020-4",
              "r": [
               [
                0.6870599999999996,
                0.6711850000000001,
                0.1839328000000001,
                0.4826790000000003,
                0.12621200000000002
               ]
              ],
              "type": "scatterpolar"
             },
             [
              1
             ]
            ],
            "label": "2020-4",
            "method": "restyle"
           },
           {
            "args": [
             {
              "name": "2020-5",
              "r": [
               [
                0.7243239999999996,
                0.6716360000000002,
                0.18073680000000023,
                0.4840256000000001,
                0.13527720000000007
               ]
              ],
              "type": "scatterpolar"
             },
             [
              1
             ]
            ],
            "label": "2020-5",
            "method": "restyle"
           },
           {
            "args": [
             {
              "name": "2020-6",
              "r": [
               [
                0.7241299999999998,
                0.6782699999999998,
                0.17383385000000012,
                0.5021700000000002,
                0.15569550000000004
               ]
              ],
              "type": "scatterpolar"
             },
             [
              1
             ]
            ],
            "label": "2020-6",
            "method": "restyle"
           },
           {
            "args": [
             {
              "name": "2020-7",
              "r": [
               [
                0.7323759999999991,
                0.7035719999999999,
                0.1647288240000002,
                0.5648359999999999,
                0.11986440000000007
               ]
              ],
              "type": "scatterpolar"
             },
             [
              1
             ]
            ],
            "label": "2020-7",
            "method": "restyle"
           }
          ],
          "direction": "down",
          "showactive": true,
          "x": 0.1,
          "xanchor": "left",
          "yanchor": "top"
         }
        ]
       }
      },
      "text/html": [
       "<div>\n",
       "        \n",
       "        \n",
       "            <div id=\"b50fe385-154b-4896-a5b9-50515302c958\" class=\"plotly-graph-div\" style=\"height:525px; width:100%;\"></div>\n",
       "            <script type=\"text/javascript\">\n",
       "                require([\"plotly\"], function(Plotly) {\n",
       "                    window.PLOTLYENV=window.PLOTLYENV || {};\n",
       "                    \n",
       "                if (document.getElementById(\"b50fe385-154b-4896-a5b9-50515302c958\")) {\n",
       "                    Plotly.newPlot(\n",
       "                        'b50fe385-154b-4896-a5b9-50515302c958',\n",
       "                        [{\"fill\": \"toself\", \"name\": \"2017-1\", \"r\": [0.6410100000000001, 0.6880649999999998, 0.20989465000000007, 0.48892900000000017, 0.11666000000000003], \"theta\": [\"danceability\", \"energy\", \"acousticness\", \"valence\", \"speechiness\"], \"type\": \"scatterpolar\", \"visible\": true}, {\"fill\": \"toself\", \"name\": \"2017-1\", \"r\": [0.6410100000000001, 0.6880649999999998, 0.20989465000000007, 0.48892900000000017, 0.11666000000000003], \"theta\": [\"danceability\", \"energy\", \"acousticness\", \"valence\", \"speechiness\"], \"type\": \"scatterpolar\", \"visible\": true}],\n",
       "                        {\"annotations\": [{\"align\": \"left\", \"font\": {\"color\": \"blue\"}, \"showarrow\": false, \"text\": \"Date 1:\", \"x\": 0, \"y\": 1.085, \"yref\": \"paper\"}, {\"align\": \"left\", \"font\": {\"color\": \"red\"}, \"showarrow\": false, \"text\": \"Date 2:\", \"x\": 0, \"y\": 0.98, \"yref\": \"paper\"}], \"polar\": {\"radialaxis\": {\"range\": [0.1, 0.75], \"visible\": true}}, \"showlegend\": true, \"template\": {\"data\": {\"bar\": [{\"error_x\": {\"color\": \"#2a3f5f\"}, \"error_y\": {\"color\": \"#2a3f5f\"}, \"marker\": {\"line\": {\"color\": \"#E5ECF6\", \"width\": 0.5}}, \"type\": \"bar\"}], \"barpolar\": [{\"marker\": {\"line\": {\"color\": \"#E5ECF6\", \"width\": 0.5}}, \"type\": \"barpolar\"}], \"carpet\": [{\"aaxis\": {\"endlinecolor\": \"#2a3f5f\", \"gridcolor\": \"white\", \"linecolor\": \"white\", \"minorgridcolor\": \"white\", \"startlinecolor\": \"#2a3f5f\"}, \"baxis\": {\"endlinecolor\": \"#2a3f5f\", \"gridcolor\": \"white\", \"linecolor\": \"white\", \"minorgridcolor\": \"white\", \"startlinecolor\": \"#2a3f5f\"}, \"type\": \"carpet\"}], \"choropleth\": [{\"colorbar\": {\"outlinewidth\": 0, \"ticks\": \"\"}, \"type\": \"choropleth\"}], \"contour\": [{\"colorbar\": {\"outlinewidth\": 0, \"ticks\": \"\"}, \"colorscale\": [[0.0, \"#0d0887\"], [0.1111111111111111, \"#46039f\"], [0.2222222222222222, \"#7201a8\"], [0.3333333333333333, \"#9c179e\"], [0.4444444444444444, \"#bd3786\"], [0.5555555555555556, \"#d8576b\"], [0.6666666666666666, \"#ed7953\"], [0.7777777777777778, \"#fb9f3a\"], [0.8888888888888888, \"#fdca26\"], [1.0, \"#f0f921\"]], \"type\": \"contour\"}], \"contourcarpet\": [{\"colorbar\": {\"outlinewidth\": 0, \"ticks\": \"\"}, \"type\": \"contourcarpet\"}], \"heatmap\": [{\"colorbar\": {\"outlinewidth\": 0, \"ticks\": \"\"}, \"colorscale\": [[0.0, \"#0d0887\"], [0.1111111111111111, \"#46039f\"], [0.2222222222222222, \"#7201a8\"], [0.3333333333333333, \"#9c179e\"], [0.4444444444444444, \"#bd3786\"], [0.5555555555555556, \"#d8576b\"], [0.6666666666666666, \"#ed7953\"], [0.7777777777777778, \"#fb9f3a\"], [0.8888888888888888, \"#fdca26\"], [1.0, \"#f0f921\"]], \"type\": \"heatmap\"}], \"heatmapgl\": [{\"colorbar\": {\"outlinewidth\": 0, \"ticks\": \"\"}, \"colorscale\": [[0.0, \"#0d0887\"], [0.1111111111111111, \"#46039f\"], [0.2222222222222222, \"#7201a8\"], [0.3333333333333333, \"#9c179e\"], [0.4444444444444444, \"#bd3786\"], [0.5555555555555556, \"#d8576b\"], [0.6666666666666666, \"#ed7953\"], [0.7777777777777778, \"#fb9f3a\"], [0.8888888888888888, \"#fdca26\"], [1.0, \"#f0f921\"]], \"type\": \"heatmapgl\"}], \"histogram\": [{\"marker\": {\"colorbar\": {\"outlinewidth\": 0, \"ticks\": \"\"}}, \"type\": \"histogram\"}], \"histogram2d\": [{\"colorbar\": {\"outlinewidth\": 0, \"ticks\": \"\"}, \"colorscale\": [[0.0, \"#0d0887\"], [0.1111111111111111, \"#46039f\"], [0.2222222222222222, \"#7201a8\"], [0.3333333333333333, \"#9c179e\"], [0.4444444444444444, \"#bd3786\"], [0.5555555555555556, \"#d8576b\"], [0.6666666666666666, \"#ed7953\"], [0.7777777777777778, \"#fb9f3a\"], [0.8888888888888888, \"#fdca26\"], [1.0, \"#f0f921\"]], \"type\": \"histogram2d\"}], \"histogram2dcontour\": [{\"colorbar\": {\"outlinewidth\": 0, \"ticks\": \"\"}, \"colorscale\": [[0.0, \"#0d0887\"], [0.1111111111111111, \"#46039f\"], [0.2222222222222222, \"#7201a8\"], [0.3333333333333333, \"#9c179e\"], [0.4444444444444444, \"#bd3786\"], [0.5555555555555556, \"#d8576b\"], [0.6666666666666666, \"#ed7953\"], [0.7777777777777778, \"#fb9f3a\"], [0.8888888888888888, \"#fdca26\"], [1.0, \"#f0f921\"]], \"type\": \"histogram2dcontour\"}], \"mesh3d\": [{\"colorbar\": {\"outlinewidth\": 0, \"ticks\": \"\"}, \"type\": \"mesh3d\"}], \"parcoords\": [{\"line\": {\"colorbar\": {\"outlinewidth\": 0, \"ticks\": \"\"}}, \"type\": \"parcoords\"}], \"pie\": [{\"automargin\": true, \"type\": \"pie\"}], \"scatter\": [{\"marker\": {\"colorbar\": {\"outlinewidth\": 0, \"ticks\": \"\"}}, \"type\": \"scatter\"}], \"scatter3d\": [{\"line\": {\"colorbar\": {\"outlinewidth\": 0, \"ticks\": \"\"}}, \"marker\": {\"colorbar\": {\"outlinewidth\": 0, \"ticks\": \"\"}}, \"type\": \"scatter3d\"}], \"scattercarpet\": [{\"marker\": {\"colorbar\": {\"outlinewidth\": 0, \"ticks\": \"\"}}, \"type\": \"scattercarpet\"}], \"scattergeo\": [{\"marker\": {\"colorbar\": {\"outlinewidth\": 0, \"ticks\": \"\"}}, \"type\": \"scattergeo\"}], \"scattergl\": [{\"marker\": {\"colorbar\": {\"outlinewidth\": 0, \"ticks\": \"\"}}, \"type\": \"scattergl\"}], \"scattermapbox\": [{\"marker\": {\"colorbar\": {\"outlinewidth\": 0, \"ticks\": \"\"}}, \"type\": \"scattermapbox\"}], \"scatterpolar\": [{\"marker\": {\"colorbar\": {\"outlinewidth\": 0, \"ticks\": \"\"}}, \"type\": \"scatterpolar\"}], \"scatterpolargl\": [{\"marker\": {\"colorbar\": {\"outlinewidth\": 0, \"ticks\": \"\"}}, \"type\": \"scatterpolargl\"}], \"scatterternary\": [{\"marker\": {\"colorbar\": {\"outlinewidth\": 0, \"ticks\": \"\"}}, \"type\": \"scatterternary\"}], \"surface\": [{\"colorbar\": {\"outlinewidth\": 0, \"ticks\": \"\"}, \"colorscale\": [[0.0, \"#0d0887\"], [0.1111111111111111, \"#46039f\"], [0.2222222222222222, \"#7201a8\"], [0.3333333333333333, \"#9c179e\"], [0.4444444444444444, \"#bd3786\"], [0.5555555555555556, \"#d8576b\"], [0.6666666666666666, \"#ed7953\"], [0.7777777777777778, \"#fb9f3a\"], [0.8888888888888888, \"#fdca26\"], [1.0, \"#f0f921\"]], \"type\": \"surface\"}], \"table\": [{\"cells\": {\"fill\": {\"color\": \"#EBF0F8\"}, \"line\": {\"color\": \"white\"}}, \"header\": {\"fill\": {\"color\": \"#C8D4E3\"}, \"line\": {\"color\": \"white\"}}, \"type\": \"table\"}]}, \"layout\": {\"annotationdefaults\": {\"arrowcolor\": \"#2a3f5f\", \"arrowhead\": 0, \"arrowwidth\": 1}, \"coloraxis\": {\"colorbar\": {\"outlinewidth\": 0, \"ticks\": \"\"}}, \"colorscale\": {\"diverging\": [[0, \"#8e0152\"], [0.1, \"#c51b7d\"], [0.2, \"#de77ae\"], [0.3, \"#f1b6da\"], [0.4, \"#fde0ef\"], [0.5, \"#f7f7f7\"], [0.6, \"#e6f5d0\"], [0.7, \"#b8e186\"], [0.8, \"#7fbc41\"], [0.9, \"#4d9221\"], [1, \"#276419\"]], \"sequential\": [[0.0, \"#0d0887\"], [0.1111111111111111, \"#46039f\"], [0.2222222222222222, \"#7201a8\"], [0.3333333333333333, \"#9c179e\"], [0.4444444444444444, \"#bd3786\"], [0.5555555555555556, \"#d8576b\"], [0.6666666666666666, \"#ed7953\"], [0.7777777777777778, \"#fb9f3a\"], [0.8888888888888888, \"#fdca26\"], [1.0, \"#f0f921\"]], \"sequentialminus\": [[0.0, \"#0d0887\"], [0.1111111111111111, \"#46039f\"], [0.2222222222222222, \"#7201a8\"], [0.3333333333333333, \"#9c179e\"], [0.4444444444444444, \"#bd3786\"], [0.5555555555555556, \"#d8576b\"], [0.6666666666666666, \"#ed7953\"], [0.7777777777777778, \"#fb9f3a\"], [0.8888888888888888, \"#fdca26\"], [1.0, \"#f0f921\"]]}, \"colorway\": [\"#636efa\", \"#EF553B\", \"#00cc96\", \"#ab63fa\", \"#FFA15A\", \"#19d3f3\", \"#FF6692\", \"#B6E880\", \"#FF97FF\", \"#FECB52\"], \"font\": {\"color\": \"#2a3f5f\"}, \"geo\": {\"bgcolor\": \"white\", \"lakecolor\": \"white\", \"landcolor\": \"#E5ECF6\", \"showlakes\": true, \"showland\": true, \"subunitcolor\": \"white\"}, \"hoverlabel\": {\"align\": \"left\"}, \"hovermode\": \"closest\", \"mapbox\": {\"style\": \"light\"}, \"paper_bgcolor\": \"white\", \"plot_bgcolor\": \"#E5ECF6\", \"polar\": {\"angularaxis\": {\"gridcolor\": \"white\", \"linecolor\": \"white\", \"ticks\": \"\"}, \"bgcolor\": \"#E5ECF6\", \"radialaxis\": {\"gridcolor\": \"white\", \"linecolor\": \"white\", \"ticks\": \"\"}}, \"scene\": {\"xaxis\": {\"backgroundcolor\": \"#E5ECF6\", \"gridcolor\": \"white\", \"gridwidth\": 2, \"linecolor\": \"white\", \"showbackground\": true, \"ticks\": \"\", \"zerolinecolor\": \"white\"}, \"yaxis\": {\"backgroundcolor\": \"#E5ECF6\", \"gridcolor\": \"white\", \"gridwidth\": 2, \"linecolor\": \"white\", \"showbackground\": true, \"ticks\": \"\", \"zerolinecolor\": \"white\"}, \"zaxis\": {\"backgroundcolor\": \"#E5ECF6\", \"gridcolor\": \"white\", \"gridwidth\": 2, \"linecolor\": \"white\", \"showbackground\": true, \"ticks\": \"\", \"zerolinecolor\": \"white\"}}, \"shapedefaults\": {\"line\": {\"color\": \"#2a3f5f\"}}, \"ternary\": {\"aaxis\": {\"gridcolor\": \"white\", \"linecolor\": \"white\", \"ticks\": \"\"}, \"baxis\": {\"gridcolor\": \"white\", \"linecolor\": \"white\", \"ticks\": \"\"}, \"bgcolor\": \"#E5ECF6\", \"caxis\": {\"gridcolor\": \"white\", \"linecolor\": \"white\", \"ticks\": \"\"}}, \"title\": {\"x\": 0.05}, \"xaxis\": {\"automargin\": true, \"gridcolor\": \"white\", \"linecolor\": \"white\", \"ticks\": \"\", \"title\": {\"standoff\": 15}, \"zerolinecolor\": \"white\", \"zerolinewidth\": 2}, \"yaxis\": {\"automargin\": true, \"gridcolor\": \"white\", \"linecolor\": \"white\", \"ticks\": \"\", \"title\": {\"standoff\": 15}, \"zerolinecolor\": \"white\", \"zerolinewidth\": 2}}}, \"updatemenus\": [{\"buttons\": [{\"args\": [{\"name\": \"2017-1\", \"r\": [[0.6410100000000001, 0.6880649999999998, 0.20989465000000007, 0.48892900000000017, 0.11666000000000003]], \"type\": \"scatterpolar\"}, [0]], \"label\": \"2017-1\", \"method\": \"restyle\"}, {\"args\": [{\"name\": \"2017-2\", \"r\": [[0.6275950000000001, 0.6896900000000001, 0.2021247, 0.469839, 0.09830199999999996]], \"type\": \"scatterpolar\"}, [0]], \"label\": \"2017-2\", \"method\": \"restyle\"}, {\"args\": [{\"name\": \"2017-3\", \"r\": [[0.6601199999999998, 0.6717359999999999, 0.2081671600000001, 0.5178720000000003, 0.08735400000000001]], \"type\": \"scatterpolar\"}, [0]], \"label\": \"2017-3\", \"method\": \"restyle\"}, {\"args\": [{\"name\": \"2017-4\", \"r\": [[0.6950900000000001, 0.6747699999999999, 0.17641468000000005, 0.528199, 0.09674500000000005]], \"type\": \"scatterpolar\"}, [0]], \"label\": \"2017-4\", \"method\": \"restyle\"}, {\"args\": [{\"name\": \"2017-5\", \"r\": [[0.7056150000000001, 0.693125, 0.14982223999999994, 0.5631840000000001, 0.09249049999999999]], \"type\": \"scatterpolar\"}, [0]], \"label\": \"2017-5\", \"method\": \"restyle\"}, {\"args\": [{\"name\": \"2017-6\", \"r\": [[0.7056520000000001, 0.7119200000000002, 0.16940708000000002, 0.5797392000000001, 0.09102840000000001]], \"type\": \"scatterpolar\"}, [0]], \"label\": \"2017-6\", \"method\": \"restyle\"}, {\"args\": [{\"name\": \"2017-7\", \"r\": [[0.7088450000000002, 0.7149000000000002, 0.1368790499999999, 0.6010949999999999, 0.0871555]], \"type\": \"scatterpolar\"}, [0]], \"label\": \"2017-7\", \"method\": \"restyle\"}, {\"args\": [{\"name\": \"2017-8\", \"r\": [[0.71127, 0.7347750000000004, 0.12675934999999988, 0.6241650000000002, 0.08250800000000005]], \"type\": \"scatterpolar\"}, [0]], \"label\": \"2017-8\", \"method\": \"restyle\"}, {\"args\": [{\"name\": \"2017-9\", \"r\": [[0.7072319999999999, 0.7108720000000003, 0.13973819999999995, 0.5747924, 0.08788400000000005]], \"type\": \"scatterpolar\"}, [0]], \"label\": \"2017-9\", \"method\": \"restyle\"}, {\"args\": [{\"name\": \"2017-10\", \"r\": [[0.7021900000000001, 0.6677150000000002, 0.17625485000000005, 0.5177299999999999, 0.08434849999999995]], \"type\": \"scatterpolar\"}, [0]], \"label\": \"2017-10\", \"method\": \"restyle\"}, {\"args\": [{\"name\": \"2017-11\", \"r\": [[0.6886100000000003, 0.6647199999999996, 0.17360185000000009, 0.47303299999999987, 0.08539849999999996]], \"type\": \"scatterpolar\"}, [0]], \"label\": \"2017-11\", \"method\": \"restyle\"}, {\"args\": [{\"name\": \"2017-12\", \"r\": [[0.6492720000000003, 0.6690800000000003, 0.19112304, 0.4614539999999995, 0.09065920000000002]], \"type\": \"scatterpolar\"}, [0]], \"label\": \"2017-12\", \"method\": \"restyle\"}, {\"args\": [{\"name\": \"2018-1\", \"r\": [[0.6653100000000003, 0.6561449999999998, 0.18183695, 0.4493434999999999, 0.10499500000000009]], \"type\": \"scatterpolar\"}, [0]], \"label\": \"2018-1\", \"method\": \"restyle\"}, {\"args\": [{\"name\": \"2018-2\", \"r\": [[0.6816200000000004, 0.6722599999999994, 0.18233454999999998, 0.4537385, 0.10787400000000001]], \"type\": \"scatterpolar\"}, [0]], \"label\": \"2018-2\", \"method\": \"restyle\"}, {\"args\": [{\"name\": \"2018-3\", \"r\": [[0.6988080000000003, 0.6798559999999999, 0.18025451999999992, 0.47127520000000034, 0.11671080000000006]], \"type\": \"scatterpolar\"}, [0]], \"label\": \"2018-3\", \"method\": \"restyle\"}, {\"args\": [{\"name\": \"2018-4\", \"r\": [[0.6970399999999999, 0.6927899999999996, 0.17284355000000004, 0.4884659999999998, 0.1338575]], \"type\": \"scatterpolar\"}, [0]], \"label\": \"2018-4\", \"method\": \"restyle\"}, {\"args\": [{\"name\": \"2018-5\", \"r\": [[0.7170899999999999, 0.6889699999999996, 0.16971099999999992, 0.4953939999999997, 0.12052999999999997]], \"type\": \"scatterpolar\"}, [0]], \"label\": \"2018-5\", \"method\": \"restyle\"}, {\"args\": [{\"name\": \"2018-6\", \"r\": [[0.7255919999999997, 0.6929119999999995, 0.17574360000000003, 0.5244063999999997, 0.10861959999999996]], \"type\": \"scatterpolar\"}, [0]], \"label\": \"2018-6\", \"method\": \"restyle\"}, {\"args\": [{\"name\": \"2018-7\", \"r\": [[0.73271, 0.6931049999999999, 0.17365664999999994, 0.5618599999999992, 0.09793399999999997]], \"type\": \"scatterpolar\"}, [0]], \"label\": \"2018-7\", \"method\": \"restyle\"}, {\"args\": [{\"name\": \"2018-8\", \"r\": [[0.7299599999999998, 0.6998679999999999, 0.15292311999999997, 0.5613655999999998, 0.11137999999999994]], \"type\": \"scatterpolar\"}, [0]], \"label\": \"2018-8\", \"method\": \"restyle\"}, {\"args\": [{\"name\": \"2018-9\", \"r\": [[0.748785, 0.6887850000000003, 0.17759784999999995, 0.555345, 0.14227549999999997]], \"type\": \"scatterpolar\"}, [0]], \"label\": \"2018-9\", \"method\": \"restyle\"}, {\"args\": [{\"name\": \"2018-10\", \"r\": [[0.7203049999999999, 0.6943750000000003, 0.20102455000000002, 0.5125550000000001, 0.13152250000000007]], \"type\": \"scatterpolar\"}, [0]], \"label\": \"2018-10\", \"method\": \"restyle\"}, {\"args\": [{\"name\": \"2018-11\", \"r\": [[0.6994560000000001, 0.6882800000000003, 0.21360150800000016, 0.48329999999999973, 0.13039719999999994]], \"type\": \"scatterpolar\"}, [0]], \"label\": \"2018-11\", \"method\": \"restyle\"}, {\"args\": [{\"name\": \"2018-12\", \"r\": [[0.6789049999999996, 0.6794200000000004, 0.21727860000000013, 0.47329999999999983, 0.13538450000000007]], \"type\": \"scatterpolar\"}, [0]], \"label\": \"2018-12\", \"method\": \"restyle\"}, {\"args\": [{\"name\": \"2019-1\", \"r\": [[0.6820699999999998, 0.6736250000000001, 0.22084833500000012, 0.4785300000000002, 0.12712000000000007]], \"type\": \"scatterpolar\"}, [0]], \"label\": \"2019-1\", \"method\": \"restyle\"}, {\"args\": [{\"name\": \"2019-2\", \"r\": [[0.6954049999999996, 0.6600849999999998, 0.23817029999999995, 0.4763050000000002, 0.14178850000000012]], \"type\": \"scatterpolar\"}, [0]], \"label\": \"2019-2\", \"method\": \"restyle\"}, {\"args\": [{\"name\": \"2019-3\", \"r\": [[0.6967799999999992, 0.6672439999999996, 0.22111991999999997, 0.49497000000000013, 0.1374160000000002]], \"type\": \"scatterpolar\"}, [0]], \"label\": \"2019-3\", \"method\": \"restyle\"}, {\"args\": [{\"name\": \"2019-4\", \"r\": [[0.6856499999999999, 0.6560699999999998, 0.2377895, 0.4833304999999995, 0.11728850000000009]], \"type\": \"scatterpolar\"}, [0]], \"label\": \"2019-4\", \"method\": \"restyle\"}, {\"args\": [{\"name\": \"2019-5\", \"r\": [[0.6908160000000001, 0.6653319999999998, 0.2072772000000001, 0.5108383999999997, 0.12177120000000005]], \"type\": \"scatterpolar\"}, [0]], \"label\": \"2019-5\", \"method\": \"restyle\"}, {\"args\": [{\"name\": \"2019-6\", \"r\": [[0.7326950000000002, 0.6805499999999999, 0.18120150000000007, 0.5705219999999998, 0.11753050000000004]], \"type\": \"scatterpolar\"}, [0]], \"label\": \"2019-6\", \"method\": \"restyle\"}, {\"args\": [{\"name\": \"2019-7\", \"r\": [[0.7316999999999999, 0.6956699999999997, 0.1660840500000001, 0.5794599999999996, 0.1518795]], \"type\": \"scatterpolar\"}, [0]], \"label\": \"2019-7\", \"method\": \"restyle\"}, {\"args\": [{\"name\": \"2019-8\", \"r\": [[0.72972, 0.6802599999999998, 0.1645625600000001, 0.5750679999999996, 0.13513000000000003]], \"type\": \"scatterpolar\"}, [0]], \"label\": \"2019-8\", \"method\": \"restyle\"}, {\"args\": [{\"name\": \"2019-9\", \"r\": [[0.7404500000000005, 0.6589250000000003, 0.18788799999999997, 0.5416729999999995, 0.15741650000000007]], \"type\": \"scatterpolar\"}, [0]], \"label\": \"2019-9\", \"method\": \"restyle\"}, {\"args\": [{\"name\": \"2019-10\", \"r\": [[0.7451049999999999, 0.6535300000000004, 0.19034655, 0.5237604999999995, 0.1487535]], \"type\": \"scatterpolar\"}, [0]], \"label\": \"2019-10\", \"method\": \"restyle\"}, {\"args\": [{\"name\": \"2019-11\", \"r\": [[0.7146599999999999, 0.673908, 0.20358012000000011, 0.49910719999999953, 0.13203080000000003]], \"type\": \"scatterpolar\"}, [0]], \"label\": \"2019-11\", \"method\": \"restyle\"}, {\"args\": [{\"name\": \"2019-12\", \"r\": [[0.6896099999999997, 0.6558049999999999, 0.18699960000000002, 0.49253899999999995, 0.12881199999999995]], \"type\": \"scatterpolar\"}, [0]], \"label\": \"2019-12\", \"method\": \"restyle\"}, {\"args\": [{\"name\": \"2020-1\", \"r\": [[0.6920799999999998, 0.6532680000000001, 0.19349012000000004, 0.47819600000000007, 0.13361599999999996]], \"type\": \"scatterpolar\"}, [0]], \"label\": \"2020-1\", \"method\": \"restyle\"}, {\"args\": [{\"name\": \"2020-2\", \"r\": [[0.6663049999999999, 0.6753250000000002, 0.16885279999999997, 0.47903399999999974, 0.147264]], \"type\": \"scatterpolar\"}, [0]], \"label\": \"2020-2\", \"method\": \"restyle\"}, {\"args\": [{\"name\": \"2020-3\", \"r\": [[0.6769299999999997, 0.6753049999999999, 0.16479674999999994, 0.46750899999999995, 0.13391099999999997]], \"type\": \"scatterpolar\"}, [0]], \"label\": \"2020-3\", \"method\": \"restyle\"}, {\"args\": [{\"name\": \"2020-4\", \"r\": [[0.6870599999999996, 0.6711850000000001, 0.1839328000000001, 0.4826790000000003, 0.12621200000000002]], \"type\": \"scatterpolar\"}, [0]], \"label\": \"2020-4\", \"method\": \"restyle\"}, {\"args\": [{\"name\": \"2020-5\", \"r\": [[0.7243239999999996, 0.6716360000000002, 0.18073680000000023, 0.4840256000000001, 0.13527720000000007]], \"type\": \"scatterpolar\"}, [0]], \"label\": \"2020-5\", \"method\": \"restyle\"}, {\"args\": [{\"name\": \"2020-6\", \"r\": [[0.7241299999999998, 0.6782699999999998, 0.17383385000000012, 0.5021700000000002, 0.15569550000000004]], \"type\": \"scatterpolar\"}, [0]], \"label\": \"2020-6\", \"method\": \"restyle\"}, {\"args\": [{\"name\": \"2020-7\", \"r\": [[0.7323759999999991, 0.7035719999999999, 0.1647288240000002, 0.5648359999999999, 0.11986440000000007]], \"type\": \"scatterpolar\"}, [0]], \"label\": \"2020-7\", \"method\": \"restyle\"}], \"direction\": \"down\", \"showactive\": true, \"x\": 0.1, \"xanchor\": \"left\", \"y\": 1.1}, {\"buttons\": [{\"args\": [{\"name\": \"2017-1\", \"r\": [[0.6410100000000001, 0.6880649999999998, 0.20989465000000007, 0.48892900000000017, 0.11666000000000003]], \"type\": \"scatterpolar\"}, [1]], \"label\": \"2017-1\", \"method\": \"restyle\"}, {\"args\": [{\"name\": \"2017-2\", \"r\": [[0.6275950000000001, 0.6896900000000001, 0.2021247, 0.469839, 0.09830199999999996]], \"type\": \"scatterpolar\"}, [1]], \"label\": \"2017-2\", \"method\": \"restyle\"}, {\"args\": [{\"name\": \"2017-3\", \"r\": [[0.6601199999999998, 0.6717359999999999, 0.2081671600000001, 0.5178720000000003, 0.08735400000000001]], \"type\": \"scatterpolar\"}, [1]], \"label\": \"2017-3\", \"method\": \"restyle\"}, {\"args\": [{\"name\": \"2017-4\", \"r\": [[0.6950900000000001, 0.6747699999999999, 0.17641468000000005, 0.528199, 0.09674500000000005]], \"type\": \"scatterpolar\"}, [1]], \"label\": \"2017-4\", \"method\": \"restyle\"}, {\"args\": [{\"name\": \"2017-5\", \"r\": [[0.7056150000000001, 0.693125, 0.14982223999999994, 0.5631840000000001, 0.09249049999999999]], \"type\": \"scatterpolar\"}, [1]], \"label\": \"2017-5\", \"method\": \"restyle\"}, {\"args\": [{\"name\": \"2017-6\", \"r\": [[0.7056520000000001, 0.7119200000000002, 0.16940708000000002, 0.5797392000000001, 0.09102840000000001]], \"type\": \"scatterpolar\"}, [1]], \"label\": \"2017-6\", \"method\": \"restyle\"}, {\"args\": [{\"name\": \"2017-7\", \"r\": [[0.7088450000000002, 0.7149000000000002, 0.1368790499999999, 0.6010949999999999, 0.0871555]], \"type\": \"scatterpolar\"}, [1]], \"label\": \"2017-7\", \"method\": \"restyle\"}, {\"args\": [{\"name\": \"2017-8\", \"r\": [[0.71127, 0.7347750000000004, 0.12675934999999988, 0.6241650000000002, 0.08250800000000005]], \"type\": \"scatterpolar\"}, [1]], \"label\": \"2017-8\", \"method\": \"restyle\"}, {\"args\": [{\"name\": \"2017-9\", \"r\": [[0.7072319999999999, 0.7108720000000003, 0.13973819999999995, 0.5747924, 0.08788400000000005]], \"type\": \"scatterpolar\"}, [1]], \"label\": \"2017-9\", \"method\": \"restyle\"}, {\"args\": [{\"name\": \"2017-10\", \"r\": [[0.7021900000000001, 0.6677150000000002, 0.17625485000000005, 0.5177299999999999, 0.08434849999999995]], \"type\": \"scatterpolar\"}, [1]], \"label\": \"2017-10\", \"method\": \"restyle\"}, {\"args\": [{\"name\": \"2017-11\", \"r\": [[0.6886100000000003, 0.6647199999999996, 0.17360185000000009, 0.47303299999999987, 0.08539849999999996]], \"type\": \"scatterpolar\"}, [1]], \"label\": \"2017-11\", \"method\": \"restyle\"}, {\"args\": [{\"name\": \"2017-12\", \"r\": [[0.6492720000000003, 0.6690800000000003, 0.19112304, 0.4614539999999995, 0.09065920000000002]], \"type\": \"scatterpolar\"}, [1]], \"label\": \"2017-12\", \"method\": \"restyle\"}, {\"args\": [{\"name\": \"2018-1\", \"r\": [[0.6653100000000003, 0.6561449999999998, 0.18183695, 0.4493434999999999, 0.10499500000000009]], \"type\": \"scatterpolar\"}, [1]], \"label\": \"2018-1\", \"method\": \"restyle\"}, {\"args\": [{\"name\": \"2018-2\", \"r\": [[0.6816200000000004, 0.6722599999999994, 0.18233454999999998, 0.4537385, 0.10787400000000001]], \"type\": \"scatterpolar\"}, [1]], \"label\": \"2018-2\", \"method\": \"restyle\"}, {\"args\": [{\"name\": \"2018-3\", \"r\": [[0.6988080000000003, 0.6798559999999999, 0.18025451999999992, 0.47127520000000034, 0.11671080000000006]], \"type\": \"scatterpolar\"}, [1]], \"label\": \"2018-3\", \"method\": \"restyle\"}, {\"args\": [{\"name\": \"2018-4\", \"r\": [[0.6970399999999999, 0.6927899999999996, 0.17284355000000004, 0.4884659999999998, 0.1338575]], \"type\": \"scatterpolar\"}, [1]], \"label\": \"2018-4\", \"method\": \"restyle\"}, {\"args\": [{\"name\": \"2018-5\", \"r\": [[0.7170899999999999, 0.6889699999999996, 0.16971099999999992, 0.4953939999999997, 0.12052999999999997]], \"type\": \"scatterpolar\"}, [1]], \"label\": \"2018-5\", \"method\": \"restyle\"}, {\"args\": [{\"name\": \"2018-6\", \"r\": [[0.7255919999999997, 0.6929119999999995, 0.17574360000000003, 0.5244063999999997, 0.10861959999999996]], \"type\": \"scatterpolar\"}, [1]], \"label\": \"2018-6\", \"method\": \"restyle\"}, {\"args\": [{\"name\": \"2018-7\", \"r\": [[0.73271, 0.6931049999999999, 0.17365664999999994, 0.5618599999999992, 0.09793399999999997]], \"type\": \"scatterpolar\"}, [1]], \"label\": \"2018-7\", \"method\": \"restyle\"}, {\"args\": [{\"name\": \"2018-8\", \"r\": [[0.7299599999999998, 0.6998679999999999, 0.15292311999999997, 0.5613655999999998, 0.11137999999999994]], \"type\": \"scatterpolar\"}, [1]], \"label\": \"2018-8\", \"method\": \"restyle\"}, {\"args\": [{\"name\": \"2018-9\", \"r\": [[0.748785, 0.6887850000000003, 0.17759784999999995, 0.555345, 0.14227549999999997]], \"type\": \"scatterpolar\"}, [1]], \"label\": \"2018-9\", \"method\": \"restyle\"}, {\"args\": [{\"name\": \"2018-10\", \"r\": [[0.7203049999999999, 0.6943750000000003, 0.20102455000000002, 0.5125550000000001, 0.13152250000000007]], \"type\": \"scatterpolar\"}, [1]], \"label\": \"2018-10\", \"method\": \"restyle\"}, {\"args\": [{\"name\": \"2018-11\", \"r\": [[0.6994560000000001, 0.6882800000000003, 0.21360150800000016, 0.48329999999999973, 0.13039719999999994]], \"type\": \"scatterpolar\"}, [1]], \"label\": \"2018-11\", \"method\": \"restyle\"}, {\"args\": [{\"name\": \"2018-12\", \"r\": [[0.6789049999999996, 0.6794200000000004, 0.21727860000000013, 0.47329999999999983, 0.13538450000000007]], \"type\": \"scatterpolar\"}, [1]], \"label\": \"2018-12\", \"method\": \"restyle\"}, {\"args\": [{\"name\": \"2019-1\", \"r\": [[0.6820699999999998, 0.6736250000000001, 0.22084833500000012, 0.4785300000000002, 0.12712000000000007]], \"type\": \"scatterpolar\"}, [1]], \"label\": \"2019-1\", \"method\": \"restyle\"}, {\"args\": [{\"name\": \"2019-2\", \"r\": [[0.6954049999999996, 0.6600849999999998, 0.23817029999999995, 0.4763050000000002, 0.14178850000000012]], \"type\": \"scatterpolar\"}, [1]], \"label\": \"2019-2\", \"method\": \"restyle\"}, {\"args\": [{\"name\": \"2019-3\", \"r\": [[0.6967799999999992, 0.6672439999999996, 0.22111991999999997, 0.49497000000000013, 0.1374160000000002]], \"type\": \"scatterpolar\"}, [1]], \"label\": \"2019-3\", \"method\": \"restyle\"}, {\"args\": [{\"name\": \"2019-4\", \"r\": [[0.6856499999999999, 0.6560699999999998, 0.2377895, 0.4833304999999995, 0.11728850000000009]], \"type\": \"scatterpolar\"}, [1]], \"label\": \"2019-4\", \"method\": \"restyle\"}, {\"args\": [{\"name\": \"2019-5\", \"r\": [[0.6908160000000001, 0.6653319999999998, 0.2072772000000001, 0.5108383999999997, 0.12177120000000005]], \"type\": \"scatterpolar\"}, [1]], \"label\": \"2019-5\", \"method\": \"restyle\"}, {\"args\": [{\"name\": \"2019-6\", \"r\": [[0.7326950000000002, 0.6805499999999999, 0.18120150000000007, 0.5705219999999998, 0.11753050000000004]], \"type\": \"scatterpolar\"}, [1]], \"label\": \"2019-6\", \"method\": \"restyle\"}, {\"args\": [{\"name\": \"2019-7\", \"r\": [[0.7316999999999999, 0.6956699999999997, 0.1660840500000001, 0.5794599999999996, 0.1518795]], \"type\": \"scatterpolar\"}, [1]], \"label\": \"2019-7\", \"method\": \"restyle\"}, {\"args\": [{\"name\": \"2019-8\", \"r\": [[0.72972, 0.6802599999999998, 0.1645625600000001, 0.5750679999999996, 0.13513000000000003]], \"type\": \"scatterpolar\"}, [1]], \"label\": \"2019-8\", \"method\": \"restyle\"}, {\"args\": [{\"name\": \"2019-9\", \"r\": [[0.7404500000000005, 0.6589250000000003, 0.18788799999999997, 0.5416729999999995, 0.15741650000000007]], \"type\": \"scatterpolar\"}, [1]], \"label\": \"2019-9\", \"method\": \"restyle\"}, {\"args\": [{\"name\": \"2019-10\", \"r\": [[0.7451049999999999, 0.6535300000000004, 0.19034655, 0.5237604999999995, 0.1487535]], \"type\": \"scatterpolar\"}, [1]], \"label\": \"2019-10\", \"method\": \"restyle\"}, {\"args\": [{\"name\": \"2019-11\", \"r\": [[0.7146599999999999, 0.673908, 0.20358012000000011, 0.49910719999999953, 0.13203080000000003]], \"type\": \"scatterpolar\"}, [1]], \"label\": \"2019-11\", \"method\": \"restyle\"}, {\"args\": [{\"name\": \"2019-12\", \"r\": [[0.6896099999999997, 0.6558049999999999, 0.18699960000000002, 0.49253899999999995, 0.12881199999999995]], \"type\": \"scatterpolar\"}, [1]], \"label\": \"2019-12\", \"method\": \"restyle\"}, {\"args\": [{\"name\": \"2020-1\", \"r\": [[0.6920799999999998, 0.6532680000000001, 0.19349012000000004, 0.47819600000000007, 0.13361599999999996]], \"type\": \"scatterpolar\"}, [1]], \"label\": \"2020-1\", \"method\": \"restyle\"}, {\"args\": [{\"name\": \"2020-2\", \"r\": [[0.6663049999999999, 0.6753250000000002, 0.16885279999999997, 0.47903399999999974, 0.147264]], \"type\": \"scatterpolar\"}, [1]], \"label\": \"2020-2\", \"method\": \"restyle\"}, {\"args\": [{\"name\": \"2020-3\", \"r\": [[0.6769299999999997, 0.6753049999999999, 0.16479674999999994, 0.46750899999999995, 0.13391099999999997]], \"type\": \"scatterpolar\"}, [1]], \"label\": \"2020-3\", \"method\": \"restyle\"}, {\"args\": [{\"name\": \"2020-4\", \"r\": [[0.6870599999999996, 0.6711850000000001, 0.1839328000000001, 0.4826790000000003, 0.12621200000000002]], \"type\": \"scatterpolar\"}, [1]], \"label\": \"2020-4\", \"method\": \"restyle\"}, {\"args\": [{\"name\": \"2020-5\", \"r\": [[0.7243239999999996, 0.6716360000000002, 0.18073680000000023, 0.4840256000000001, 0.13527720000000007]], \"type\": \"scatterpolar\"}, [1]], \"label\": \"2020-5\", \"method\": \"restyle\"}, {\"args\": [{\"name\": \"2020-6\", \"r\": [[0.7241299999999998, 0.6782699999999998, 0.17383385000000012, 0.5021700000000002, 0.15569550000000004]], \"type\": \"scatterpolar\"}, [1]], \"label\": \"2020-6\", \"method\": \"restyle\"}, {\"args\": [{\"name\": \"2020-7\", \"r\": [[0.7323759999999991, 0.7035719999999999, 0.1647288240000002, 0.5648359999999999, 0.11986440000000007]], \"type\": \"scatterpolar\"}, [1]], \"label\": \"2020-7\", \"method\": \"restyle\"}], \"direction\": \"down\", \"showactive\": true, \"x\": 0.1, \"xanchor\": \"left\", \"yanchor\": \"top\"}]},\n",
       "                        {\"responsive\": true}\n",
       "                    ).then(function(){\n",
       "                            \n",
       "var gd = document.getElementById('b50fe385-154b-4896-a5b9-50515302c958');\n",
       "var x = new MutationObserver(function (mutations, observer) {{\n",
       "        var display = window.getComputedStyle(gd).display;\n",
       "        if (!display || display === 'none') {{\n",
       "            console.log([gd, 'removed!']);\n",
       "            Plotly.purge(gd);\n",
       "            observer.disconnect();\n",
       "        }}\n",
       "}});\n",
       "\n",
       "// Listen for the removal of the full notebook cells\n",
       "var notebookContainer = gd.closest('#notebook-container');\n",
       "if (notebookContainer) {{\n",
       "    x.observe(notebookContainer, {childList: true});\n",
       "}}\n",
       "\n",
       "// Listen for the clearing of the current output cell\n",
       "var outputEl = gd.closest('.output');\n",
       "if (outputEl) {{\n",
       "    x.observe(outputEl, {childList: true});\n",
       "}}\n",
       "\n",
       "                        })\n",
       "                };\n",
       "                });\n",
       "            </script>\n",
       "        </div>"
      ]
     },
     "metadata": {},
     "output_type": "display_data"
    }
   ],
   "source": [
    "# create figure\n",
    "fig = go.Figure()\n",
    "\n",
    "# Add surface trace\n",
    "fig.add_trace(go.Scatterpolar(r=df_relevant.iloc[0],\n",
    "                         theta=df_relevant.columns,\n",
    "                         visible=True,\n",
    "                             name = str(df_relevant.index[0].year) + '-' +  str(df_relevant.index[0].month))\n",
    "             )\n",
    "\n",
    "# Add surface trace\n",
    "fig.add_trace(go.Scatterpolar(r=df_relevant.iloc[0],\n",
    "                         theta=df_relevant.columns,\n",
    "                         visible=True,\n",
    "                             name = str(df_relevant.index[0].year) + '-' +  str(df_relevant.index[0].month))\n",
    "             )\n",
    "\n",
    "buttons1 = []\n",
    "buttons2 = []\n",
    "\n",
    "# button with one option for each dataframe\n",
    "for date in df_relevant.index:\n",
    "    year_month = str(date.year) +'-'+str(date.month)\n",
    "    #print(df_relevant[year_month].to_numpy())\n",
    "    buttons1.append({\n",
    "                    'method': 'restyle',\n",
    "                    'label': year_month,\n",
    "                    'args': [\n",
    "                        {'r': df_relevant[year_month].to_numpy(),\n",
    "                         'type' : 'scatterpolar',\n",
    "                        'name' : year_month}, [0]\n",
    "                    ]\n",
    "    }\n",
    "    )\n",
    "\n",
    "for date in df_relevant.index:\n",
    "    year_month = str(date.year) +'-'+str(date.month)\n",
    "    #print(df_relevant[year_month].to_numpy())\n",
    "    buttons2.append({\n",
    "                    'method': 'restyle',\n",
    "                    'label': year_month,\n",
    "                    'args': [\n",
    "                        {'r': df_relevant[year_month].to_numpy(),\n",
    "                         'type' : 'scatterpolar',\n",
    "                        'name' : year_month}, [1]\n",
    "                    ]\n",
    "    }\n",
    "    )\n",
    "\n",
    "# some adjustments to the updatemenus\n",
    "updatemenu = []\n",
    "first_menu = dict()\n",
    "second_menu = dict()\n",
    "updatemenu.append(first_menu)\n",
    "updatemenu.append(second_menu)\n",
    "\n",
    "updatemenu[0]['buttons'] = buttons1\n",
    "updatemenu[0]['direction'] = 'down'\n",
    "updatemenu[0]['showactive'] = True\n",
    "#updatemenu[0]['pad'] = {\"r\": 10, \"t\": 10}\n",
    "updatemenu[0]['x'] = 0.1\n",
    "updatemenu[0]['xanchor'] = 'left'\n",
    "updatemenu[0]['y'] = 1.1\n",
    "updatemenu[1]['yanchor'] = 'top'\n",
    "updatemenu[1]['buttons'] = buttons2\n",
    "updatemenu[1]['direction'] = 'down'\n",
    "updatemenu[1]['showactive'] = True\n",
    "updatemenu[1]['x'] = 0.1\n",
    "updatemenu[1]['xanchor'] = 'left'\n",
    "\n",
    "#updatemenu[1]['pad'] = {\"r\": 10, \"t\": 10}\n",
    "\n",
    "# add dropdown menus to the figure\n",
    "fig.update_layout(updatemenus=updatemenu)\n",
    "fig.update_layout(\n",
    "    annotations=[\n",
    "        dict(text=\"Date 1:\", showarrow=False,\n",
    "        x=0, y=1.085, yref=\"paper\", align=\"left\",\n",
    "            font = dict(\n",
    "                color='blue'\n",
    "            )),\n",
    "        dict(text=\"Date 2:\", showarrow=False,\n",
    "        x=0, y=0.98, yref=\"paper\", align=\"left\", \n",
    "             font = dict(\n",
    "                color='red'\n",
    "            ))\n",
    "    ]\n",
    ")\n",
    "\n",
    "fig.update_layout(\n",
    "    polar=dict(\n",
    "    radialaxis=dict(\n",
    "      visible=True,\n",
    "      range=[0.1, 0.75]\n",
    "    )),\n",
    "  showlegend=True\n",
    ")\n",
    "\n",
    "fig.update_traces(fill='toself')\n",
    "fig.show()"
   ]
  }
 ],
 "metadata": {
  "kernelspec": {
   "display_name": "Python 3",
   "language": "python",
   "name": "python3"
  },
  "language_info": {
   "codemirror_mode": {
    "name": "ipython",
    "version": 3
   },
   "file_extension": ".py",
   "mimetype": "text/x-python",
   "name": "python",
   "nbconvert_exporter": "python",
   "pygments_lexer": "ipython3",
   "version": "3.7.4"
  }
 },
 "nbformat": 4,
 "nbformat_minor": 4
}
